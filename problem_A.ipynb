{
 "cells": [
  {
   "cell_type": "code",
   "execution_count": 1,
   "id": "fe7c892a-a2b3-4973-9c83-0a7fe8a7697c",
   "metadata": {},
   "outputs": [],
   "source": [
    "#import lib \n",
    "import numpy as np \n",
    "import pandas as pd\n",
    "import seaborn as sns\n",
    "import matplotlib \n",
    "import matplotlib.pyplot as plt\n",
    "%matplotlib inline"
   ]
  },
  {
   "cell_type": "markdown",
   "id": "3542c76a-bea2-476e-a45f-32eeee7c50e9",
   "metadata": {},
   "source": [
    "### Đọc dữ liệu \n",
    "\n",
    "Dữ liệu được đọc từ file \"<i>Data_analytics_Fire_fighter.csv</i>\""
   ]
  },
  {
   "cell_type": "code",
   "execution_count": 2,
   "id": "65c3ce2d-6374-495c-ba54-451e0933a1b3",
   "metadata": {},
   "outputs": [
    {
     "data": {
      "text/html": [
       "<div>\n",
       "<style scoped>\n",
       "    .dataframe tbody tr th:only-of-type {\n",
       "        vertical-align: middle;\n",
       "    }\n",
       "\n",
       "    .dataframe tbody tr th {\n",
       "        vertical-align: top;\n",
       "    }\n",
       "\n",
       "    .dataframe thead th {\n",
       "        text-align: right;\n",
       "    }\n",
       "</style>\n",
       "<table border=\"1\" class=\"dataframe\">\n",
       "  <thead>\n",
       "    <tr style=\"text-align: right;\">\n",
       "      <th></th>\n",
       "      <th>Ngày tháng</th>\n",
       "      <th>Mã NV</th>\n",
       "      <th>Người bán hàng</th>\n",
       "      <th>Kênh phân phối</th>\n",
       "      <th>Quận</th>\n",
       "      <th>Tỉnh/ Thành phố</th>\n",
       "      <th>Vùng</th>\n",
       "      <th>Đơn vị mua</th>\n",
       "      <th>Mã hàng</th>\n",
       "      <th>Loại hàng</th>\n",
       "      <th>Tên hàng</th>\n",
       "      <th>Số lượng</th>\n",
       "      <th>ĐVT</th>\n",
       "      <th>Đơn giá</th>\n",
       "      <th>Chiết khấu</th>\n",
       "      <th>Thành tiền</th>\n",
       "    </tr>\n",
       "  </thead>\n",
       "  <tbody>\n",
       "    <tr>\n",
       "      <th>0</th>\n",
       "      <td>10/23/16</td>\n",
       "      <td>ST01</td>\n",
       "      <td>Nguyễn Minh Tâm</td>\n",
       "      <td>Siêu thị</td>\n",
       "      <td>Bà Triệu</td>\n",
       "      <td>Hà Nội</td>\n",
       "      <td>Miền Bắc</td>\n",
       "      <td>Khách lẻ</td>\n",
       "      <td>F02</td>\n",
       "      <td>Thức ăn công thức dinh dưỡng</td>\n",
       "      <td>Nestlé NAN Kid 4</td>\n",
       "      <td>13</td>\n",
       "      <td>hộp</td>\n",
       "      <td>359000</td>\n",
       "      <td>0.0</td>\n",
       "      <td>4667000</td>\n",
       "    </tr>\n",
       "    <tr>\n",
       "      <th>1</th>\n",
       "      <td>04/08/15</td>\n",
       "      <td>ST05</td>\n",
       "      <td>Nguyễn Lan Tâm</td>\n",
       "      <td>Siêu thị</td>\n",
       "      <td>Phạm Hùng</td>\n",
       "      <td>Đà Nẵng</td>\n",
       "      <td>Miền Trung</td>\n",
       "      <td>Khách lẻ</td>\n",
       "      <td>B03</td>\n",
       "      <td>Bánh ngũ cốc ăn sáng</td>\n",
       "      <td>KOKO KRUNCH (170g)</td>\n",
       "      <td>4</td>\n",
       "      <td>hộp</td>\n",
       "      <td>52000</td>\n",
       "      <td>0.0</td>\n",
       "      <td>208000</td>\n",
       "    </tr>\n",
       "    <tr>\n",
       "      <th>2</th>\n",
       "      <td>12/09/16</td>\n",
       "      <td>CH02</td>\n",
       "      <td>Hoàng Minh Trung</td>\n",
       "      <td>Cửa hàng sữa</td>\n",
       "      <td>TrầnH Văn Thụ</td>\n",
       "      <td>TP.HCM</td>\n",
       "      <td>Miền Nam</td>\n",
       "      <td>Khách lẻ</td>\n",
       "      <td>B01</td>\n",
       "      <td>Bánh ngũ cốc ăn sáng</td>\n",
       "      <td>CORN FLAKE</td>\n",
       "      <td>2</td>\n",
       "      <td>hộp</td>\n",
       "      <td>55000</td>\n",
       "      <td>0.0</td>\n",
       "      <td>110000</td>\n",
       "    </tr>\n",
       "    <tr>\n",
       "      <th>3</th>\n",
       "      <td>03/13/15</td>\n",
       "      <td>ST01</td>\n",
       "      <td>Nguyễn Minh Tâm</td>\n",
       "      <td>Siêu thị</td>\n",
       "      <td>Bà Triệu</td>\n",
       "      <td>Hà Nội</td>\n",
       "      <td>Miền Bắc</td>\n",
       "      <td>Khách lẻ</td>\n",
       "      <td>G03</td>\n",
       "      <td>Thực phẩm</td>\n",
       "      <td>Hạt nêm MAGGI ( 450g)</td>\n",
       "      <td>16</td>\n",
       "      <td>gói</td>\n",
       "      <td>36000</td>\n",
       "      <td>0.0</td>\n",
       "      <td>576000</td>\n",
       "    </tr>\n",
       "    <tr>\n",
       "      <th>4</th>\n",
       "      <td>10/16/14</td>\n",
       "      <td>CH02</td>\n",
       "      <td>Hoàng Minh Trung</td>\n",
       "      <td>Cửa hàng sữa</td>\n",
       "      <td>TrầnH Văn Thụ</td>\n",
       "      <td>TP.HCM</td>\n",
       "      <td>Miền Nam</td>\n",
       "      <td>Khách lẻ</td>\n",
       "      <td>B04</td>\n",
       "      <td>Bánh ngũ cốc ăn sáng</td>\n",
       "      <td>Nestlé MILO ( 330g)</td>\n",
       "      <td>5</td>\n",
       "      <td>hộp</td>\n",
       "      <td>79000</td>\n",
       "      <td>0.0</td>\n",
       "      <td>395000</td>\n",
       "    </tr>\n",
       "  </tbody>\n",
       "</table>\n",
       "</div>"
      ],
      "text/plain": [
       "  Ngày tháng Mã NV    Người bán hàng Kênh phân phối           Quận  \\\n",
       "0   10/23/16  ST01   Nguyễn Minh Tâm       Siêu thị       Bà Triệu   \n",
       "1   04/08/15  ST05    Nguyễn Lan Tâm       Siêu thị      Phạm Hùng   \n",
       "2   12/09/16  CH02  Hoàng Minh Trung   Cửa hàng sữa  TrầnH Văn Thụ   \n",
       "3   03/13/15  ST01   Nguyễn Minh Tâm       Siêu thị       Bà Triệu   \n",
       "4   10/16/14  CH02  Hoàng Minh Trung   Cửa hàng sữa  TrầnH Văn Thụ   \n",
       "\n",
       "  Tỉnh/ Thành phố        Vùng Đơn vị mua Mã hàng  \\\n",
       "0          Hà Nội    Miền Bắc   Khách lẻ     F02   \n",
       "1         Đà Nẵng  Miền Trung   Khách lẻ     B03   \n",
       "2          TP.HCM    Miền Nam   Khách lẻ     B01   \n",
       "3          Hà Nội    Miền Bắc   Khách lẻ     G03   \n",
       "4          TP.HCM    Miền Nam   Khách lẻ     B04   \n",
       "\n",
       "                      Loại hàng               Tên hàng   Số lượng    ĐVT  \\\n",
       "0  Thức ăn công thức dinh dưỡng       Nestlé NAN Kid 4          13  hộp    \n",
       "1          Bánh ngũ cốc ăn sáng     KOKO KRUNCH (170g)           4   hộp   \n",
       "2          Bánh ngũ cốc ăn sáng             CORN FLAKE           2   hộp   \n",
       "3                     Thực phẩm  Hạt nêm MAGGI ( 450g)          16   gói   \n",
       "4          Bánh ngũ cốc ăn sáng    Nestlé MILO ( 330g)           5   hộp   \n",
       "\n",
       "   Đơn giá  Chiết khấu  Thành tiền  \n",
       "0   359000         0.0     4667000  \n",
       "1    52000         0.0      208000  \n",
       "2    55000         0.0      110000  \n",
       "3    36000         0.0      576000  \n",
       "4    79000         0.0      395000  "
      ]
     },
     "execution_count": 2,
     "metadata": {},
     "output_type": "execute_result"
    }
   ],
   "source": [
    "df_sale = pd.read_csv('Data_analytics_Fire_fighter.csv')\n",
    "df_sale.head()"
   ]
  },
  {
   "cell_type": "code",
   "execution_count": 328,
   "id": "e4a9e87e-5327-4a1a-b60c-ac043037d02b",
   "metadata": {},
   "outputs": [
    {
     "data": {
      "text/plain": [
       "(1944, 16)"
      ]
     },
     "execution_count": 328,
     "metadata": {},
     "output_type": "execute_result"
    }
   ],
   "source": [
    "df_sale.shape"
   ]
  },
  {
   "cell_type": "markdown",
   "id": "7ce8bfa1-e5c3-4f1e-8fff-b6a37ff4c715",
   "metadata": {},
   "source": [
    "### Mô tả tổng quan dữ liệu\n",
    "\n",
    "1944 bản ghi dữ liệu bán hàng qua các năm từ 2014 tới 2016 \n",
    "\n",
    "Mỗi bản ghi được được mô tả chi tiết bởi 16 trường thông tin tương ứng với 16 cột trong bảng dữ liệu"
   ]
  },
  {
   "cell_type": "markdown",
   "id": "5196f277-b2c1-4dba-a027-bc87ebf666d2",
   "metadata": {},
   "source": [
    "### Kiểm tra và làm sạch dữ liệu"
   ]
  },
  {
   "cell_type": "code",
   "execution_count": 329,
   "id": "599a8f7c-1114-4efa-9be1-912b209ddb8e",
   "metadata": {},
   "outputs": [
    {
     "data": {
      "text/plain": [
       "Ngày tháng         0\n",
       "Mã NV              0\n",
       "Người bán hàng     0\n",
       "Kênh phân phối     0\n",
       "Quận               0\n",
       "Tỉnh/ Thành phố    0\n",
       "Vùng               0\n",
       "Đơn vị mua         0\n",
       "Mã hàng            0\n",
       "Loại hàng          0\n",
       "Tên hàng           0\n",
       " Số lượng          0\n",
       "ĐVT                0\n",
       "Đơn giá            0\n",
       "Chiết khấu         0\n",
       "Thành tiền         0\n",
       "dtype: int64"
      ]
     },
     "execution_count": 329,
     "metadata": {},
     "output_type": "execute_result"
    }
   ],
   "source": [
    "#clean data\n",
    "df_sale.isnull().sum()"
   ]
  },
  {
   "cell_type": "markdown",
   "id": "4ef7715a-1161-4d12-b2ca-349e56b6205f",
   "metadata": {},
   "source": [
    "<b> Kết quả: </b> Dữ liệu đảm bảo đầy đủ giá trị"
   ]
  },
  {
   "cell_type": "code",
   "execution_count": 3,
   "id": "2d8e2917-d3d8-4f5e-b95c-10427ebad2a1",
   "metadata": {},
   "outputs": [],
   "source": [
    "#Đổi tên cột để sau thuận tiện cho truy vấn\n",
    "df_sale.columns = df_sale.columns.str.replace('Ngày tháng','Date')\n",
    "df_sale.columns = df_sale.columns.str.replace('Mã NV','Staff_code')\n",
    "df_sale.columns = df_sale.columns.str.replace('Người bán hàng','Staff_name')\n",
    "df_sale.columns = df_sale.columns.str.replace('Kênh phân phối','Channel')\n",
    "df_sale.columns = df_sale.columns.str.replace('Quận','District')\n",
    "df_sale.columns = df_sale.columns.str.replace('Tỉnh/ Thành phố','City')\n",
    "df_sale.columns = df_sale.columns.str.replace('Vùng','Area')\n",
    "df_sale.columns = df_sale.columns.str.replace('Đơn vị mua','Customer')\n",
    "df_sale.columns = df_sale.columns.str.replace('Mã hàng','Product_code')\n",
    "df_sale.columns = df_sale.columns.str.replace('Loại hàng','Product_category')\n",
    "df_sale.columns = df_sale.columns.str.replace('Tên hàng','Product_name')\n",
    "df_sale.columns = df_sale.columns.str.replace(' Số lượng ','Total_item')\n",
    "df_sale.columns = df_sale.columns.str.replace('ĐVT','Unit')\n",
    "df_sale.columns = df_sale.columns.str.replace('Đơn giá','Price')\n",
    "df_sale.columns = df_sale.columns.str.replace('Chiết khấu','Discount')\n",
    "df_sale.columns = df_sale.columns.str.replace('Thành tiền','Total_amount')"
   ]
  },
  {
   "cell_type": "code",
   "execution_count": 4,
   "id": "e8a8b112-8445-4127-a750-f4a31c0b794d",
   "metadata": {},
   "outputs": [],
   "source": [
    "#chuyển kiểu dữ liệu trường ngày tháng thành datetime \n",
    "df_sale['Date'] = pd.to_datetime(df_sale['Date'])"
   ]
  },
  {
   "cell_type": "code",
   "execution_count": 332,
   "id": "178a8475-86fa-403c-b566-70c4b797fe14",
   "metadata": {},
   "outputs": [
    {
     "data": {
      "text/plain": [
       "Date                datetime64[ns]\n",
       "Staff_code                  object\n",
       "Staff_name                  object\n",
       "Channel                     object\n",
       "District                    object\n",
       "City                        object\n",
       "Area                        object\n",
       "Customer                    object\n",
       "Product_code                object\n",
       "Product_category            object\n",
       "Product_name                object\n",
       "Total_item                   int64\n",
       "Unit                        object\n",
       "Price                        int64\n",
       "Discount                   float64\n",
       "Total_amount                 int64\n",
       "dtype: object"
      ]
     },
     "execution_count": 332,
     "metadata": {},
     "output_type": "execute_result"
    }
   ],
   "source": [
    "df_sale.dtypes"
   ]
  },
  {
   "cell_type": "code",
   "execution_count": 5,
   "id": "db241ac1-bb17-4613-a68a-ff42b2df6c08",
   "metadata": {},
   "outputs": [],
   "source": [
    "import sqlite3"
   ]
  },
  {
   "cell_type": "code",
   "execution_count": 6,
   "id": "db94a547-deab-4f33-ab9d-f6382803b087",
   "metadata": {},
   "outputs": [
    {
     "data": {
      "text/html": [
       "<div>\n",
       "<style scoped>\n",
       "    .dataframe tbody tr th:only-of-type {\n",
       "        vertical-align: middle;\n",
       "    }\n",
       "\n",
       "    .dataframe tbody tr th {\n",
       "        vertical-align: top;\n",
       "    }\n",
       "\n",
       "    .dataframe thead th {\n",
       "        text-align: right;\n",
       "    }\n",
       "</style>\n",
       "<table border=\"1\" class=\"dataframe\">\n",
       "  <thead>\n",
       "    <tr style=\"text-align: right;\">\n",
       "      <th></th>\n",
       "      <th>Total_item</th>\n",
       "      <th>Price</th>\n",
       "      <th>Discount</th>\n",
       "      <th>Total_amount</th>\n",
       "    </tr>\n",
       "  </thead>\n",
       "  <tbody>\n",
       "    <tr>\n",
       "      <th>count</th>\n",
       "      <td>1944.000000</td>\n",
       "      <td>1944.000000</td>\n",
       "      <td>1944.000000</td>\n",
       "      <td>1.944000e+03</td>\n",
       "    </tr>\n",
       "    <tr>\n",
       "      <th>mean</th>\n",
       "      <td>10.372942</td>\n",
       "      <td>112162.808642</td>\n",
       "      <td>0.004090</td>\n",
       "      <td>1.178487e+06</td>\n",
       "    </tr>\n",
       "    <tr>\n",
       "      <th>std</th>\n",
       "      <td>5.668970</td>\n",
       "      <td>131131.694167</td>\n",
       "      <td>0.012933</td>\n",
       "      <td>1.478061e+06</td>\n",
       "    </tr>\n",
       "    <tr>\n",
       "      <th>min</th>\n",
       "      <td>1.000000</td>\n",
       "      <td>5000.000000</td>\n",
       "      <td>0.000000</td>\n",
       "      <td>1.140000e+04</td>\n",
       "    </tr>\n",
       "    <tr>\n",
       "      <th>25%</th>\n",
       "      <td>6.000000</td>\n",
       "      <td>31000.000000</td>\n",
       "      <td>0.000000</td>\n",
       "      <td>2.337000e+05</td>\n",
       "    </tr>\n",
       "    <tr>\n",
       "      <th>50%</th>\n",
       "      <td>10.000000</td>\n",
       "      <td>55000.000000</td>\n",
       "      <td>0.000000</td>\n",
       "      <td>5.760000e+05</td>\n",
       "    </tr>\n",
       "    <tr>\n",
       "      <th>75%</th>\n",
       "      <td>15.000000</td>\n",
       "      <td>107000.000000</td>\n",
       "      <td>0.000000</td>\n",
       "      <td>1.244500e+06</td>\n",
       "    </tr>\n",
       "    <tr>\n",
       "      <th>max</th>\n",
       "      <td>20.000000</td>\n",
       "      <td>440000.000000</td>\n",
       "      <td>0.050000</td>\n",
       "      <td>4.840000e+06</td>\n",
       "    </tr>\n",
       "  </tbody>\n",
       "</table>\n",
       "</div>"
      ],
      "text/plain": [
       "        Total_item          Price     Discount  Total_amount\n",
       "count  1944.000000    1944.000000  1944.000000  1.944000e+03\n",
       "mean     10.372942  112162.808642     0.004090  1.178487e+06\n",
       "std       5.668970  131131.694167     0.012933  1.478061e+06\n",
       "min       1.000000    5000.000000     0.000000  1.140000e+04\n",
       "25%       6.000000   31000.000000     0.000000  2.337000e+05\n",
       "50%      10.000000   55000.000000     0.000000  5.760000e+05\n",
       "75%      15.000000  107000.000000     0.000000  1.244500e+06\n",
       "max      20.000000  440000.000000     0.050000  4.840000e+06"
      ]
     },
     "execution_count": 6,
     "metadata": {},
     "output_type": "execute_result"
    }
   ],
   "source": [
    "#Thực hiện thống kê các trường dữ liệu trong bảng \n",
    "df_sale.describe()"
   ]
  },
  {
   "cell_type": "code",
   "execution_count": 7,
   "id": "f7d54492-d308-4a28-a3d4-05b14c11eb2b",
   "metadata": {},
   "outputs": [],
   "source": [
    "df_statiscal = df_sale.describe()"
   ]
  },
  {
   "cell_type": "code",
   "execution_count": 8,
   "id": "0521716f-75cb-43dc-9814-8fe0f4cc1aa3",
   "metadata": {},
   "outputs": [
    {
     "data": {
      "text/html": [
       "<div>\n",
       "<style scoped>\n",
       "    .dataframe tbody tr th:only-of-type {\n",
       "        vertical-align: middle;\n",
       "    }\n",
       "\n",
       "    .dataframe tbody tr th {\n",
       "        vertical-align: top;\n",
       "    }\n",
       "\n",
       "    .dataframe thead th {\n",
       "        text-align: right;\n",
       "    }\n",
       "</style>\n",
       "<table border=\"1\" class=\"dataframe\">\n",
       "  <thead>\n",
       "    <tr style=\"text-align: right;\">\n",
       "      <th></th>\n",
       "      <th>Total_item</th>\n",
       "      <th>Price</th>\n",
       "      <th>Discount</th>\n",
       "      <th>Total_amount</th>\n",
       "    </tr>\n",
       "  </thead>\n",
       "  <tbody>\n",
       "    <tr>\n",
       "      <th>count</th>\n",
       "      <td>1944</td>\n",
       "      <td>1944</td>\n",
       "      <td>1944</td>\n",
       "      <td>1944</td>\n",
       "    </tr>\n",
       "    <tr>\n",
       "      <th>mean</th>\n",
       "      <td>10</td>\n",
       "      <td>112162</td>\n",
       "      <td>0</td>\n",
       "      <td>1178487</td>\n",
       "    </tr>\n",
       "    <tr>\n",
       "      <th>std</th>\n",
       "      <td>5</td>\n",
       "      <td>131131</td>\n",
       "      <td>0</td>\n",
       "      <td>1478060</td>\n",
       "    </tr>\n",
       "    <tr>\n",
       "      <th>min</th>\n",
       "      <td>1</td>\n",
       "      <td>5000</td>\n",
       "      <td>0</td>\n",
       "      <td>11400</td>\n",
       "    </tr>\n",
       "    <tr>\n",
       "      <th>25%</th>\n",
       "      <td>6</td>\n",
       "      <td>31000</td>\n",
       "      <td>0</td>\n",
       "      <td>233700</td>\n",
       "    </tr>\n",
       "    <tr>\n",
       "      <th>50%</th>\n",
       "      <td>10</td>\n",
       "      <td>55000</td>\n",
       "      <td>0</td>\n",
       "      <td>576000</td>\n",
       "    </tr>\n",
       "    <tr>\n",
       "      <th>75%</th>\n",
       "      <td>15</td>\n",
       "      <td>107000</td>\n",
       "      <td>0</td>\n",
       "      <td>1244500</td>\n",
       "    </tr>\n",
       "    <tr>\n",
       "      <th>max</th>\n",
       "      <td>20</td>\n",
       "      <td>440000</td>\n",
       "      <td>0</td>\n",
       "      <td>4840000</td>\n",
       "    </tr>\n",
       "  </tbody>\n",
       "</table>\n",
       "</div>"
      ],
      "text/plain": [
       "       Total_item   Price  Discount  Total_amount\n",
       "count        1944    1944      1944          1944\n",
       "mean           10  112162         0       1178487\n",
       "std             5  131131         0       1478060\n",
       "min             1    5000         0         11400\n",
       "25%             6   31000         0        233700\n",
       "50%            10   55000         0        576000\n",
       "75%            15  107000         0       1244500\n",
       "max            20  440000         0       4840000"
      ]
     },
     "execution_count": 8,
     "metadata": {},
     "output_type": "execute_result"
    }
   ],
   "source": [
    "#chuyển kiểu dữ liệu về int cho dễ nhìn \n",
    "df_statiscal.astype(int)"
   ]
  },
  {
   "cell_type": "code",
   "execution_count": 337,
   "id": "9d579b2b-b0e3-443d-9ae7-9786c833f9e6",
   "metadata": {},
   "outputs": [
    {
     "data": {
      "text/plain": [
       "<AxesSubplot:>"
      ]
     },
     "execution_count": 337,
     "metadata": {},
     "output_type": "execute_result"
    },
    {
     "data": {
      "image/png": "[encoded data removed]",
      "text/plain": [
       "<Figure size 720x504 with 1 Axes>"
      ]
     },
     "metadata": {
      "needs_background": "light"
     },
     "output_type": "display_data"
    }
   ],
   "source": [
    "df_sale.boxplot(column='Price', figsize= (10,7))"
   ]
  },
  {
   "cell_type": "markdown",
   "id": "45292bde-3b70-473c-af4f-90c89667235e",
   "metadata": {},
   "source": [
    "Có 3 mặt hàng có giá trên 300.000 VNĐ, còn lại đa số có giá dưới 100.000 VNĐ"
   ]
  },
  {
   "cell_type": "code",
   "execution_count": 9,
   "id": "48efee1d-b785-48af-8d71-9e8394b8c8ab",
   "metadata": {},
   "outputs": [],
   "source": [
    "#bổ sung cột tính năm, tháng, ngày dựa trên trường Date\n",
    "df_sale['year'] = df_sale['Date'].apply(lambda x: x.year)\n",
    "df_sale['month'] = df_sale['Date'].apply(lambda x: x.month)\n",
    "df_sale['month_name'] = df_sale['Date'].apply(lambda x: x.strftime('%b'))\n",
    "df_sale['year_month'] = df_sale['Date'].apply(lambda x: x.strftime('%Y.%m'))\n",
    "df_sale['Date_detail'] = df_sale['Date'].apply(lambda x: x.strftime('%Y,%m,%d'))"
   ]
  },
  {
   "cell_type": "code",
   "execution_count": 10,
   "id": "c7e7ab61-c51f-4d60-a219-20e2ecc40591",
   "metadata": {},
   "outputs": [],
   "source": [
    "#bổ sung cột tính quý dựa trên trường tháng \n",
    "df_sale['Quarter'] = df_sale['month'].apply(lambda x: (x-1)//3 + 1)"
   ]
  },
  {
   "cell_type": "code",
   "execution_count": 11,
   "id": "c1c2ff13-6b58-44c3-80f8-a0d687e1e47d",
   "metadata": {},
   "outputs": [],
   "source": [
    "#tạo connect tới db, tạo bảng trên db dựa trên dataframe chứa dữ liệu \n",
    "cnn = sqlite3.connect('sale_2.db')\n",
    "df_sale.to_sql('saless_tb', cnn)\n",
    "%load_ext sql\n",
    "%sql sqlite:///sale_2.db"
   ]
  },
  {
   "cell_type": "markdown",
   "id": "e6721983-9946-4189-aac4-8dae1cfbeb9a",
   "metadata": {},
   "source": [
    "### Tổng doanh thu theo năm"
   ]
  },
  {
   "cell_type": "code",
   "execution_count": 12,
   "id": "67855b24-ed88-4076-bb01-5e678da2ef87",
   "metadata": {},
   "outputs": [
    {
     "name": "stdout",
     "output_type": "stream",
     "text": [
      " * sqlite:///sale_2.db\n",
      "Done.\n"
     ]
    },
    {
     "data": {
      "text/html": [
       "<div>\n",
       "<style scoped>\n",
       "    .dataframe tbody tr th:only-of-type {\n",
       "        vertical-align: middle;\n",
       "    }\n",
       "\n",
       "    .dataframe tbody tr th {\n",
       "        vertical-align: top;\n",
       "    }\n",
       "\n",
       "    .dataframe thead th {\n",
       "        text-align: right;\n",
       "    }\n",
       "</style>\n",
       "<table border=\"1\" class=\"dataframe\">\n",
       "  <thead>\n",
       "    <tr style=\"text-align: right;\">\n",
       "      <th></th>\n",
       "      <th>year</th>\n",
       "      <th>Total_amount</th>\n",
       "      <th>grown_revenue_rate</th>\n",
       "    </tr>\n",
       "  </thead>\n",
       "  <tbody>\n",
       "    <tr>\n",
       "      <th>0</th>\n",
       "      <td>2014</td>\n",
       "      <td>762079020</td>\n",
       "      <td>NaN</td>\n",
       "    </tr>\n",
       "    <tr>\n",
       "      <th>1</th>\n",
       "      <td>2015</td>\n",
       "      <td>813250710</td>\n",
       "      <td>0.067147</td>\n",
       "    </tr>\n",
       "    <tr>\n",
       "      <th>2</th>\n",
       "      <td>2016</td>\n",
       "      <td>715649090</td>\n",
       "      <td>-0.120014</td>\n",
       "    </tr>\n",
       "  </tbody>\n",
       "</table>\n",
       "</div>"
      ],
      "text/plain": [
       "   year  Total_amount  grown_revenue_rate\n",
       "0  2014     762079020                 NaN\n",
       "1  2015     813250710            0.067147\n",
       "2  2016     715649090           -0.120014"
      ]
     },
     "execution_count": 12,
     "metadata": {},
     "output_type": "execute_result"
    }
   ],
   "source": [
    "#doanh thu và tăng trưởng doanh thu qua các năm \n",
    "\n",
    "revenue_by_year = %sql select year, sum(Total_amount) as Revenue from saless_tb group by year order by year\n",
    "#chuyển kết quả query về dạng dataframe\n",
    "revenue_by_year = pd.DataFrame(revenue_by_year)\n",
    "#đổi tên cột dataframe vừa tạo\n",
    "revenue_by_year = revenue_by_year.rename(columns={0:'year',1:'Total_amount'})\n",
    "revenue_by_year['grown_revenue_rate'] = revenue_by_year['Total_amount'].pct_change()\n",
    "revenue_by_year"
   ]
  },
  {
   "cell_type": "code",
   "execution_count": 22,
   "id": "7c42377c-b2ac-44e0-9187-433e01021d4c",
   "metadata": {},
   "outputs": [
    {
     "data": {
      "image/png": "[encoded data removed]",
      "text/plain": [
       "<Figure size 720x504 with 1 Axes>"
      ]
     },
     "metadata": {
      "needs_background": "light"
     },
     "output_type": "display_data"
    }
   ],
   "source": [
    "x_revenue_by_year = revenue_by_year['year']\n",
    "y_revenue_by_year = revenue_by_year['Total_amount']\n",
    "\n",
    "plt.figure(figsize=(10,7))\n",
    "plt.title(label='Doanh thu theo năm', fontsize=15)\n",
    "plt.bar(x_revenue_by_year, y_revenue_by_year, width = 0.4, color = 'mediumaquamarine')\n",
    "plt.xlabel('Năm', fontsize=10)\n",
    "plt.ylabel('Doanh thu', fontsize=10)\n",
    "plt.xticks(x_revenue_by_year, fontsize=10, rotation=0)\n",
    "plt.yticks(fontsize=10, rotation=0)\n",
    "plt.show()"
   ]
  },
  {
   "cell_type": "markdown",
   "id": "514fae27-fefb-47de-ba98-c1c512451c86",
   "metadata": {},
   "source": [
    "### Nhận xét\n",
    "\n",
    "- Tổng doanh thu các năm đều đạt trên 700 triệu đồng. Năm 2015 là năm có tổng doanh thu cao nhất là hơn 813 triệu đồng, trong khi đó năm 2016 có tổng doanh thu thấp nhất là khoảng 715 triệu đồng. \n",
    "\n",
    "- Doanh thu năm 2016 chứng kiến sự sụt giảm mạnh so với các năm trước. Cụ thể, doanh thu năm 2016 giảm 12% so với năm 2015.  "
   ]
  },
  {
   "cell_type": "markdown",
   "id": "a01ed765-d54b-4428-9d9b-2c9704988a89",
   "metadata": {},
   "source": [
    "### Tổng doanh thu theo vùng/miền qua các năm "
   ]
  },
  {
   "cell_type": "code",
   "execution_count": 23,
   "id": "d422d1f8-10c4-45e4-bcd9-b319ad156713",
   "metadata": {},
   "outputs": [
    {
     "name": "stdout",
     "output_type": "stream",
     "text": [
      " * sqlite:///sale_2.db\n",
      "Done.\n",
      " * sqlite:///sale_2.db\n",
      "Done.\n",
      " * sqlite:///sale_2.db\n",
      "Done.\n"
     ]
    }
   ],
   "source": [
    "revenue_by_area_t = %sql select Year, Area, sum(Total_amount) as Revenue from saless_tb where Area = 'Miền Trung' group by Year, Area order by Year, Revenue\n",
    "revenue_by_area_b = %sql select Year, Area, sum(Total_amount) as Revenue from saless_tb where Area = 'Miền Bắc' group by Year, Area order by Year, Revenue\n",
    "revenue_by_area_n = %sql select Year, Area, sum(Total_amount) as Revenue from saless_tb where Area = 'Miền Nam' group by Year, Area order by Year, Revenue\n",
    "\n",
    "#chuyển kết quả query về dạng dataframe\n",
    "revenue_by_area_t = pd.DataFrame(revenue_by_area_t)\n",
    "revenue_by_area_b = pd.DataFrame(revenue_by_area_b)\n",
    "revenue_by_area_n = pd.DataFrame(revenue_by_area_n)\n",
    "#đổi tên cột dataframe vừa tạo\n",
    "revenue_by_area_t = revenue_by_area_t.rename(columns={0:'Year',1:'Area', 2:'Revenue'})\n",
    "revenue_by_area_b = revenue_by_area_b.rename(columns={0:'Year',1:'Area', 2:'Revenue'})\n",
    "revenue_by_area_n = revenue_by_area_n.rename(columns={0:'Year',1:'Area', 2:'Revenue'})"
   ]
  },
  {
   "cell_type": "code",
   "execution_count": 34,
   "id": "654f51cf-89d1-4a4d-a076-395eb069bb94",
   "metadata": {},
   "outputs": [],
   "source": [
    "revenue_by_area_t['growth_rate']= revenue_by_area_t['Revenue'].pct_change()\n",
    "revenue_by_area_b['growth_rate']= revenue_by_area_b['Revenue'].pct_change()\n",
    "revenue_by_area_n['growth_rate']= revenue_by_area_n['Revenue'].pct_change()"
   ]
  },
  {
   "cell_type": "code",
   "execution_count": 32,
   "id": "7d0b3141-cffa-4307-9fe9-f18181e43c43",
   "metadata": {},
   "outputs": [
    {
     "data": {
      "text/html": [
       "<div>\n",
       "<style scoped>\n",
       "    .dataframe tbody tr th:only-of-type {\n",
       "        vertical-align: middle;\n",
       "    }\n",
       "\n",
       "    .dataframe tbody tr th {\n",
       "        vertical-align: top;\n",
       "    }\n",
       "\n",
       "    .dataframe thead th {\n",
       "        text-align: right;\n",
       "    }\n",
       "</style>\n",
       "<table border=\"1\" class=\"dataframe\">\n",
       "  <thead>\n",
       "    <tr style=\"text-align: right;\">\n",
       "      <th></th>\n",
       "      <th>Year</th>\n",
       "      <th>Revenue</th>\n",
       "      <th>growth_rate</th>\n",
       "    </tr>\n",
       "  </thead>\n",
       "  <tbody>\n",
       "    <tr>\n",
       "      <th>0</th>\n",
       "      <td>2014</td>\n",
       "      <td>292823420</td>\n",
       "      <td>NaN</td>\n",
       "    </tr>\n",
       "    <tr>\n",
       "      <th>1</th>\n",
       "      <td>2015</td>\n",
       "      <td>335549330</td>\n",
       "      <td>0.14591</td>\n",
       "    </tr>\n",
       "    <tr>\n",
       "      <th>2</th>\n",
       "      <td>2016</td>\n",
       "      <td>324087000</td>\n",
       "      <td>-0.03416</td>\n",
       "    </tr>\n",
       "  </tbody>\n",
       "</table>\n",
       "</div>"
      ],
      "text/plain": [
       "   Year    Revenue  growth_rate\n",
       "0  2014  292823420          NaN\n",
       "1  2015  335549330      0.14591\n",
       "2  2016  324087000     -0.03416"
      ]
     },
     "execution_count": 32,
     "metadata": {},
     "output_type": "execute_result"
    }
   ],
   "source": [
    "revenue_by_area_b[['Year','Revenue','growth_rate']]"
   ]
  },
  {
   "cell_type": "code",
   "execution_count": 35,
   "id": "c968f6c3-1dcb-4c0c-a1aa-4263392c0f02",
   "metadata": {},
   "outputs": [
    {
     "data": {
      "text/html": [
       "<div>\n",
       "<style scoped>\n",
       "    .dataframe tbody tr th:only-of-type {\n",
       "        vertical-align: middle;\n",
       "    }\n",
       "\n",
       "    .dataframe tbody tr th {\n",
       "        vertical-align: top;\n",
       "    }\n",
       "\n",
       "    .dataframe thead th {\n",
       "        text-align: right;\n",
       "    }\n",
       "</style>\n",
       "<table border=\"1\" class=\"dataframe\">\n",
       "  <thead>\n",
       "    <tr style=\"text-align: right;\">\n",
       "      <th></th>\n",
       "      <th>Year</th>\n",
       "      <th>Revenue</th>\n",
       "      <th>growth_rate</th>\n",
       "    </tr>\n",
       "  </thead>\n",
       "  <tbody>\n",
       "    <tr>\n",
       "      <th>0</th>\n",
       "      <td>2014</td>\n",
       "      <td>168920720</td>\n",
       "      <td>NaN</td>\n",
       "    </tr>\n",
       "    <tr>\n",
       "      <th>1</th>\n",
       "      <td>2015</td>\n",
       "      <td>177768160</td>\n",
       "      <td>0.052376</td>\n",
       "    </tr>\n",
       "    <tr>\n",
       "      <th>2</th>\n",
       "      <td>2016</td>\n",
       "      <td>137449970</td>\n",
       "      <td>-0.226802</td>\n",
       "    </tr>\n",
       "  </tbody>\n",
       "</table>\n",
       "</div>"
      ],
      "text/plain": [
       "   Year    Revenue  growth_rate\n",
       "0  2014  168920720          NaN\n",
       "1  2015  177768160     0.052376\n",
       "2  2016  137449970    -0.226802"
      ]
     },
     "execution_count": 35,
     "metadata": {},
     "output_type": "execute_result"
    }
   ],
   "source": [
    "revenue_by_area_t[['Year','Revenue','growth_rate']]"
   ]
  },
  {
   "cell_type": "code",
   "execution_count": 36,
   "id": "117d6bb3-5824-4632-b627-3e3d8cde98fe",
   "metadata": {},
   "outputs": [
    {
     "data": {
      "text/html": [
       "<div>\n",
       "<style scoped>\n",
       "    .dataframe tbody tr th:only-of-type {\n",
       "        vertical-align: middle;\n",
       "    }\n",
       "\n",
       "    .dataframe tbody tr th {\n",
       "        vertical-align: top;\n",
       "    }\n",
       "\n",
       "    .dataframe thead th {\n",
       "        text-align: right;\n",
       "    }\n",
       "</style>\n",
       "<table border=\"1\" class=\"dataframe\">\n",
       "  <thead>\n",
       "    <tr style=\"text-align: right;\">\n",
       "      <th></th>\n",
       "      <th>Year</th>\n",
       "      <th>Revenue</th>\n",
       "      <th>growth_rate</th>\n",
       "    </tr>\n",
       "  </thead>\n",
       "  <tbody>\n",
       "    <tr>\n",
       "      <th>0</th>\n",
       "      <td>2014</td>\n",
       "      <td>300334880</td>\n",
       "      <td>NaN</td>\n",
       "    </tr>\n",
       "    <tr>\n",
       "      <th>1</th>\n",
       "      <td>2015</td>\n",
       "      <td>299933220</td>\n",
       "      <td>-0.001337</td>\n",
       "    </tr>\n",
       "    <tr>\n",
       "      <th>2</th>\n",
       "      <td>2016</td>\n",
       "      <td>254112120</td>\n",
       "      <td>-0.152771</td>\n",
       "    </tr>\n",
       "  </tbody>\n",
       "</table>\n",
       "</div>"
      ],
      "text/plain": [
       "   Year    Revenue  growth_rate\n",
       "0  2014  300334880          NaN\n",
       "1  2015  299933220    -0.001337\n",
       "2  2016  254112120    -0.152771"
      ]
     },
     "execution_count": 36,
     "metadata": {},
     "output_type": "execute_result"
    }
   ],
   "source": [
    "revenue_by_area_n[['Year','Revenue','growth_rate']]"
   ]
  },
  {
   "cell_type": "code",
   "execution_count": 30,
   "id": "94db3837-9065-4abd-9e68-ca0e349c5fb6",
   "metadata": {},
   "outputs": [
    {
     "data": {
      "image/png": "[encoded data removed]",
      "text/plain": [
       "<Figure size 936x360 with 1 Axes>"
      ]
     },
     "metadata": {
      "needs_background": "light"
     },
     "output_type": "display_data"
    }
   ],
   "source": [
    "x_year = [2014, 2015, 2016]\n",
    "y_revenue_by_area_b = revenue_by_area_b['Revenue']\n",
    "y_revenue_by_area_t = revenue_by_area_t['Revenue']\n",
    "y_revenue_by_area_n = revenue_by_area_n['Revenue']\n",
    "\n",
    "plt.figure(figsize=(13,5))\n",
    "plt.plot(x_year, y_revenue_by_area_b, color='darkgreen', label='Miền Bắc', linestyle='-.', marker='o')\n",
    "plt.plot(x_year, y_revenue_by_area_t, color='olive', label='Miền Trung', linestyle=':', marker='+')\n",
    "plt.plot(x_year, y_revenue_by_area_n, color='yellowgreen', label='Miền Nam', linestyle='-', marker='*')\n",
    "plt.title(label='Doanh thu theo khu vực qua các năm', fontsize=15)\n",
    "plt.xlabel('Năm', fontsize=10)\n",
    "plt.ylabel('Doanh thu', fontsize=10)\n",
    "plt.xticks(x_year, fontsize=10, rotation=0)\n",
    "plt.yticks(fontsize=10, rotation=0)\n",
    "plt.legend()\n",
    "plt.show()"
   ]
  },
  {
   "cell_type": "markdown",
   "id": "fec9c661-925d-4536-8cde-f84956eef845",
   "metadata": {},
   "source": [
    "### Nhận xét \n",
    "\n",
    "- Đối với khu vực miền bắc: nhìn chung, xét về cơ cấu doanh thu theo vùng miền qua các năm, miền bắc chiềm tỷ trọng cao hơn so với các khu vực khác. Năm 2015 chứng kiến tăng trưởng doanh thu tăng khoảng hơn 14% so với năm 2014, nhưng sau đó, doanh thu 2016 giảm khoảng 3% so với 2015.  \n",
    "\n",
    "- Đối với khu vực miền trung: trong cơ cấu doanh thu giữa các khu vực, miền trung là khu vực có tổng doanh thu thấp nhất so với 2 khu vực còn lại. Tương tự như miền bắc, doanh thu tăng 5% vào năm 2015, doanh thu 2016 giảm 22% so với 2015. \n",
    "\n",
    "- Đối với khu vực miền nam: chứng kiến sự sụt giảm doanh thu từ 2014 tới 2016. Doanh thu năm 2015 giảm 0.1% so với 2014, doanh thu năm 2016 giảm 15% so với 2015. "
   ]
  },
  {
   "cell_type": "markdown",
   "id": "0cc9ccb1-cb3e-482e-a16e-f7af5282aafc",
   "metadata": {},
   "source": [
    "### Kết quả bán hàng của nhân viên "
   ]
  },
  {
   "cell_type": "code",
   "execution_count": 357,
   "id": "87c1b2c3-64b7-4846-9220-87d9002e9c6d",
   "metadata": {},
   "outputs": [
    {
     "name": "stdout",
     "output_type": "stream",
     "text": [
      "   sqlite:///data_sales_vpbank.db\n",
      "   sqlite:///mall_sale.db\n",
      " * sqlite:///sale_1.db\n",
      "   sqlite:///sale_ecommerce.db\n",
      "Done.\n"
     ]
    },
    {
     "data": {
      "text/html": [
       "<table>\n",
       "    <tr>\n",
       "        <th>year</th>\n",
       "        <th>count(distinct Staff_code)</th>\n",
       "    </tr>\n",
       "    <tr>\n",
       "        <td>2014</td>\n",
       "        <td>17</td>\n",
       "    </tr>\n",
       "    <tr>\n",
       "        <td>2015</td>\n",
       "        <td>17</td>\n",
       "    </tr>\n",
       "    <tr>\n",
       "        <td>2016</td>\n",
       "        <td>17</td>\n",
       "    </tr>\n",
       "</table>"
      ],
      "text/plain": [
       "[(2014, 17), (2015, 17), (2016, 17)]"
      ]
     },
     "execution_count": 357,
     "metadata": {},
     "output_type": "execute_result"
    }
   ],
   "source": [
    "%%sql \n",
    "\n",
    "select year, count(distinct Staff_code)\n",
    "from saless_tb \n",
    "group by year \n",
    "order by year "
   ]
  },
  {
   "cell_type": "markdown",
   "id": "c86fd2d6-1e12-4c0b-836b-6b3aff2ed51c",
   "metadata": {},
   "source": [
    "## Số lượng nhân viên cố định các năm là 17"
   ]
  },
  {
   "cell_type": "markdown",
   "id": "e0e42721-7fce-4a0a-adc1-e22d0e8ecea4",
   "metadata": {},
   "source": [
    "Số lượng nhân viên bán hàng qua các năm đều là 17 nhân viên "
   ]
  },
  {
   "cell_type": "code",
   "execution_count": 358,
   "id": "daf92da4-4018-4262-a809-e9bdbc821f6f",
   "metadata": {},
   "outputs": [
    {
     "name": "stdout",
     "output_type": "stream",
     "text": [
      "   sqlite:///data_sales_vpbank.db\n",
      "   sqlite:///mall_sale.db\n",
      " * sqlite:///sale_1.db\n",
      "   sqlite:///sale_ecommerce.db\n",
      "Done.\n"
     ]
    },
    {
     "data": {
      "text/html": [
       "<div>\n",
       "<style scoped>\n",
       "    .dataframe tbody tr th:only-of-type {\n",
       "        vertical-align: middle;\n",
       "    }\n",
       "\n",
       "    .dataframe tbody tr th {\n",
       "        vertical-align: top;\n",
       "    }\n",
       "\n",
       "    .dataframe thead th {\n",
       "        text-align: right;\n",
       "    }\n",
       "</style>\n",
       "<table border=\"1\" class=\"dataframe\">\n",
       "  <thead>\n",
       "    <tr style=\"text-align: right;\">\n",
       "      <th></th>\n",
       "      <th>Year</th>\n",
       "      <th>Staff_avg_revenue</th>\n",
       "      <th>grow_rate</th>\n",
       "    </tr>\n",
       "  </thead>\n",
       "  <tbody>\n",
       "    <tr>\n",
       "      <th>0</th>\n",
       "      <td>2014</td>\n",
       "      <td>44828177</td>\n",
       "      <td>NaN</td>\n",
       "    </tr>\n",
       "    <tr>\n",
       "      <th>1</th>\n",
       "      <td>2015</td>\n",
       "      <td>47838277</td>\n",
       "      <td>0.067147</td>\n",
       "    </tr>\n",
       "    <tr>\n",
       "      <th>2</th>\n",
       "      <td>2016</td>\n",
       "      <td>42097005</td>\n",
       "      <td>-0.120014</td>\n",
       "    </tr>\n",
       "  </tbody>\n",
       "</table>\n",
       "</div>"
      ],
      "text/plain": [
       "   Year  Staff_avg_revenue  grow_rate\n",
       "0  2014           44828177        NaN\n",
       "1  2015           47838277   0.067147\n",
       "2  2016           42097005  -0.120014"
      ]
     },
     "execution_count": 358,
     "metadata": {},
     "output_type": "execute_result"
    }
   ],
   "source": [
    "avg_revenue = %sql select year, sum(Total_amount)/count(distinct Staff_code) as staff_avg_revenue from saless_tb group by year order by year \n",
    "\n",
    "#chuyển kết quả query về dạng dataframe\n",
    "avg_revenue = pd.DataFrame(avg_revenue)\n",
    "#đổi tên cột dataframe vừa tạo\n",
    "avg_revenue = avg_revenue.rename(columns={0:'Year',1:'Staff_avg_revenue'})\n",
    "avg_revenue['grow_rate'] = avg_revenue['Staff_avg_revenue'].pct_change()\n",
    "avg_revenue"
   ]
  },
  {
   "cell_type": "markdown",
   "id": "bbba4f22-7156-4467-80b5-05d5e3937f34",
   "metadata": {},
   "source": [
    "Doanh thu bán hàng trung bình/nhân viên hàng năm khoảng trên 40 triệu đồng, năm 2014 là khoảng 44 triệu đồng, năm 2015 khoảng 47 triệu đồng và năm 2016 là khoảng 42 triệu đồng.\n",
    "\n",
    "Năm 2016, hiệu quả bán hàng của nhân viên giảm sút, doanh thu bán hàng trung bình/nhân viên năm 2016 giảm 12% so với 2015."
   ]
  },
  {
   "cell_type": "markdown",
   "id": "e487399b-048e-414e-be27-7068cb23507a",
   "metadata": {},
   "source": [
    "## Năng suất bán hàng của nhân viên năm 2016 giảm thấp so với các năm trước đó"
   ]
  },
  {
   "cell_type": "code",
   "execution_count": 359,
   "id": "1675be57-6a18-4f8c-a367-190d005f1e78",
   "metadata": {},
   "outputs": [
    {
     "name": "stdout",
     "output_type": "stream",
     "text": [
      "   sqlite:///data_sales_vpbank.db\n",
      "   sqlite:///mall_sale.db\n",
      " * sqlite:///sale_1.db\n",
      "   sqlite:///sale_ecommerce.db\n",
      "Done.\n"
     ]
    },
    {
     "data": {
      "text/html": [
       "<table>\n",
       "    <tr>\n",
       "        <th>year</th>\n",
       "        <th>Staff_code</th>\n",
       "        <th>Staff_name</th>\n",
       "        <th>Revenue</th>\n",
       "    </tr>\n",
       "    <tr>\n",
       "        <td>2014</td>\n",
       "        <td>ST04</td>\n",
       "        <td>Nguyễn Hạnh Hoa </td>\n",
       "        <td>59230190</td>\n",
       "    </tr>\n",
       "    <tr>\n",
       "        <td>2014</td>\n",
       "        <td>NT01</td>\n",
       "        <td>Phạm Hải Anh</td>\n",
       "        <td>57049260</td>\n",
       "    </tr>\n",
       "    <tr>\n",
       "        <td>2014</td>\n",
       "        <td>NT03</td>\n",
       "        <td>Lương Mạnh Tuấn</td>\n",
       "        <td>54976150</td>\n",
       "    </tr>\n",
       "    <tr>\n",
       "        <td>2014</td>\n",
       "        <td>DL03</td>\n",
       "        <td>Trần Đức Anh</td>\n",
       "        <td>54764920</td>\n",
       "    </tr>\n",
       "    <tr>\n",
       "        <td>2014</td>\n",
       "        <td>DL05</td>\n",
       "        <td>Nguyễn Hồng Trang</td>\n",
       "        <td>54164960</td>\n",
       "    </tr>\n",
       "    <tr>\n",
       "        <td>2014</td>\n",
       "        <td>DL02</td>\n",
       "        <td>Lê Minh Trang</td>\n",
       "        <td>50305280</td>\n",
       "    </tr>\n",
       "    <tr>\n",
       "        <td>2014</td>\n",
       "        <td>DL01</td>\n",
       "        <td>Lê Ngọc Lân</td>\n",
       "        <td>47527100</td>\n",
       "    </tr>\n",
       "    <tr>\n",
       "        <td>2014</td>\n",
       "        <td>CH02</td>\n",
       "        <td>Hoàng Minh Trung</td>\n",
       "        <td>46128350</td>\n",
       "    </tr>\n",
       "    <tr>\n",
       "        <td>2014</td>\n",
       "        <td>ST05</td>\n",
       "        <td>Nguyễn Lan Tâm</td>\n",
       "        <td>45071270</td>\n",
       "    </tr>\n",
       "    <tr>\n",
       "        <td>2014</td>\n",
       "        <td>DL04</td>\n",
       "        <td>Nguyễn Quang Hải</td>\n",
       "        <td>43405750</td>\n",
       "    </tr>\n",
       "    <tr>\n",
       "        <td>2014</td>\n",
       "        <td>NT05</td>\n",
       "        <td>Lê Minh Tâm</td>\n",
       "        <td>42695400</td>\n",
       "    </tr>\n",
       "    <tr>\n",
       "        <td>2014</td>\n",
       "        <td>ST03</td>\n",
       "        <td>Triệu Linh Hoa </td>\n",
       "        <td>41829520</td>\n",
       "    </tr>\n",
       "    <tr>\n",
       "        <td>2014</td>\n",
       "        <td>NT02</td>\n",
       "        <td>Phạm Minh Tâm</td>\n",
       "        <td>38559300</td>\n",
       "    </tr>\n",
       "    <tr>\n",
       "        <td>2014</td>\n",
       "        <td>ST01</td>\n",
       "        <td>Nguyễn Minh Tâm</td>\n",
       "        <td>38149560</td>\n",
       "    </tr>\n",
       "    <tr>\n",
       "        <td>2014</td>\n",
       "        <td>ST02</td>\n",
       "        <td>Hoàng Ngọc Minh</td>\n",
       "        <td>36313920</td>\n",
       "    </tr>\n",
       "    <tr>\n",
       "        <td>2014</td>\n",
       "        <td>NT04</td>\n",
       "        <td>Phạm Hải Yến</td>\n",
       "        <td>26989090</td>\n",
       "    </tr>\n",
       "    <tr>\n",
       "        <td>2014</td>\n",
       "        <td>CH01</td>\n",
       "        <td>Trần Trung Hiếu</td>\n",
       "        <td>24919000</td>\n",
       "    </tr>\n",
       "    <tr>\n",
       "        <td>2015</td>\n",
       "        <td>ST02</td>\n",
       "        <td>Hoàng Ngọc Minh</td>\n",
       "        <td>79888200</td>\n",
       "    </tr>\n",
       "    <tr>\n",
       "        <td>2015</td>\n",
       "        <td>CH02</td>\n",
       "        <td>Hoàng Minh Trung</td>\n",
       "        <td>63385000</td>\n",
       "    </tr>\n",
       "    <tr>\n",
       "        <td>2015</td>\n",
       "        <td>ST01</td>\n",
       "        <td>Nguyễn Minh Tâm</td>\n",
       "        <td>63080870</td>\n",
       "    </tr>\n",
       "    <tr>\n",
       "        <td>2015</td>\n",
       "        <td>ST05</td>\n",
       "        <td>Nguyễn Lan Tâm</td>\n",
       "        <td>61269170</td>\n",
       "    </tr>\n",
       "    <tr>\n",
       "        <td>2015</td>\n",
       "        <td>ST04</td>\n",
       "        <td>Nguyễn Hạnh Hoa </td>\n",
       "        <td>56720450</td>\n",
       "    </tr>\n",
       "    <tr>\n",
       "        <td>2015</td>\n",
       "        <td>NT03</td>\n",
       "        <td>Lương Mạnh Tuấn</td>\n",
       "        <td>55910990</td>\n",
       "    </tr>\n",
       "    <tr>\n",
       "        <td>2015</td>\n",
       "        <td>DL03</td>\n",
       "        <td>Trần Đức Anh</td>\n",
       "        <td>55617820</td>\n",
       "    </tr>\n",
       "    <tr>\n",
       "        <td>2015</td>\n",
       "        <td>NT01</td>\n",
       "        <td>Phạm Hải Anh</td>\n",
       "        <td>53427400</td>\n",
       "    </tr>\n",
       "    <tr>\n",
       "        <td>2015</td>\n",
       "        <td>NT04</td>\n",
       "        <td>Phạm Hải Yến</td>\n",
       "        <td>49491550</td>\n",
       "    </tr>\n",
       "    <tr>\n",
       "        <td>2015</td>\n",
       "        <td>CH01</td>\n",
       "        <td>Trần Trung Hiếu</td>\n",
       "        <td>49162000</td>\n",
       "    </tr>\n",
       "    <tr>\n",
       "        <td>2015</td>\n",
       "        <td>DL04</td>\n",
       "        <td>Nguyễn Quang Hải</td>\n",
       "        <td>36331000</td>\n",
       "    </tr>\n",
       "    <tr>\n",
       "        <td>2015</td>\n",
       "        <td>DL05</td>\n",
       "        <td>Nguyễn Hồng Trang</td>\n",
       "        <td>35541400</td>\n",
       "    </tr>\n",
       "    <tr>\n",
       "        <td>2015</td>\n",
       "        <td>DL02</td>\n",
       "        <td>Lê Minh Trang</td>\n",
       "        <td>35133400</td>\n",
       "    </tr>\n",
       "    <tr>\n",
       "        <td>2015</td>\n",
       "        <td>ST03</td>\n",
       "        <td>Triệu Linh Hoa </td>\n",
       "        <td>31967960</td>\n",
       "    </tr>\n",
       "    <tr>\n",
       "        <td>2015</td>\n",
       "        <td>NT05</td>\n",
       "        <td>Lê Minh Tâm</td>\n",
       "        <td>31466040</td>\n",
       "    </tr>\n",
       "    <tr>\n",
       "        <td>2015</td>\n",
       "        <td>NT02</td>\n",
       "        <td>Phạm Minh Tâm</td>\n",
       "        <td>30261780</td>\n",
       "    </tr>\n",
       "    <tr>\n",
       "        <td>2015</td>\n",
       "        <td>DL01</td>\n",
       "        <td>Lê Ngọc Lân</td>\n",
       "        <td>24595680</td>\n",
       "    </tr>\n",
       "    <tr>\n",
       "        <td>2016</td>\n",
       "        <td>CH01</td>\n",
       "        <td>Trần Trung Hiếu</td>\n",
       "        <td>61935650</td>\n",
       "    </tr>\n",
       "    <tr>\n",
       "        <td>2016</td>\n",
       "        <td>ST04</td>\n",
       "        <td>Nguyễn Hạnh Hoa </td>\n",
       "        <td>59178120</td>\n",
       "    </tr>\n",
       "    <tr>\n",
       "        <td>2016</td>\n",
       "        <td>DL01</td>\n",
       "        <td>Lê Ngọc Lân</td>\n",
       "        <td>58875460</td>\n",
       "    </tr>\n",
       "    <tr>\n",
       "        <td>2016</td>\n",
       "        <td>ST02</td>\n",
       "        <td>Hoàng Ngọc Minh</td>\n",
       "        <td>55200050</td>\n",
       "    </tr>\n",
       "    <tr>\n",
       "        <td>2016</td>\n",
       "        <td>DL03</td>\n",
       "        <td>Trần Đức Anh</td>\n",
       "        <td>47761200</td>\n",
       "    </tr>\n",
       "    <tr>\n",
       "        <td>2016</td>\n",
       "        <td>NT02</td>\n",
       "        <td>Phạm Minh Tâm</td>\n",
       "        <td>45584270</td>\n",
       "    </tr>\n",
       "    <tr>\n",
       "        <td>2016</td>\n",
       "        <td>ST05</td>\n",
       "        <td>Nguyễn Lan Tâm</td>\n",
       "        <td>45347150</td>\n",
       "    </tr>\n",
       "    <tr>\n",
       "        <td>2016</td>\n",
       "        <td>DL02</td>\n",
       "        <td>Lê Minh Trang</td>\n",
       "        <td>42473050</td>\n",
       "    </tr>\n",
       "    <tr>\n",
       "        <td>2016</td>\n",
       "        <td>ST03</td>\n",
       "        <td>Triệu Linh Hoa </td>\n",
       "        <td>41107880</td>\n",
       "    </tr>\n",
       "    <tr>\n",
       "        <td>2016</td>\n",
       "        <td>NT03</td>\n",
       "        <td>Lương Mạnh Tuấn</td>\n",
       "        <td>40578050</td>\n",
       "    </tr>\n",
       "    <tr>\n",
       "        <td>2016</td>\n",
       "        <td>ST01</td>\n",
       "        <td>Nguyễn Minh Tâm</td>\n",
       "        <td>39838000</td>\n",
       "    </tr>\n",
       "    <tr>\n",
       "        <td>2016</td>\n",
       "        <td>NT04</td>\n",
       "        <td>Phạm Hải Yến</td>\n",
       "        <td>37357420</td>\n",
       "    </tr>\n",
       "    <tr>\n",
       "        <td>2016</td>\n",
       "        <td>NT05</td>\n",
       "        <td>Lê Minh Tâm</td>\n",
       "        <td>36319410</td>\n",
       "    </tr>\n",
       "    <tr>\n",
       "        <td>2016</td>\n",
       "        <td>DL04</td>\n",
       "        <td>Nguyễn Quang Hải</td>\n",
       "        <td>33739550</td>\n",
       "    </tr>\n",
       "    <tr>\n",
       "        <td>2016</td>\n",
       "        <td>CH02</td>\n",
       "        <td>Hoàng Minh Trung</td>\n",
       "        <td>31747320</td>\n",
       "    </tr>\n",
       "    <tr>\n",
       "        <td>2016</td>\n",
       "        <td>NT01</td>\n",
       "        <td>Phạm Hải Anh</td>\n",
       "        <td>20180520</td>\n",
       "    </tr>\n",
       "    <tr>\n",
       "        <td>2016</td>\n",
       "        <td>DL05</td>\n",
       "        <td>Nguyễn Hồng Trang</td>\n",
       "        <td>18425990</td>\n",
       "    </tr>\n",
       "</table>"
      ],
      "text/plain": [
       "[(2014, 'ST04', 'Nguyễn Hạnh Hoa ', 59230190),\n",
       " (2014, 'NT01', 'Phạm Hải Anh', 57049260),\n",
       " (2014, 'NT03', 'Lương Mạnh Tuấn', 54976150),\n",
       " (2014, 'DL03', 'Trần Đức Anh', 54764920),\n",
       " (2014, 'DL05', 'Nguyễn Hồng Trang', 54164960),\n",
       " (2014, 'DL02', 'Lê Minh Trang', 50305280),\n",
       " (2014, 'DL01', 'Lê Ngọc Lân', 47527100),\n",
       " (2014, 'CH02', 'Hoàng Minh Trung', 46128350),\n",
       " (2014, 'ST05', 'Nguyễn Lan Tâm', 45071270),\n",
       " (2014, 'DL04', 'Nguyễn Quang Hải', 43405750),\n",
       " (2014, 'NT05', 'Lê Minh Tâm', 42695400),\n",
       " (2014, 'ST03', 'Triệu Linh Hoa ', 41829520),\n",
       " (2014, 'NT02', 'Phạm Minh Tâm', 38559300),\n",
       " (2014, 'ST01', 'Nguyễn Minh Tâm', 38149560),\n",
       " (2014, 'ST02', 'Hoàng Ngọc Minh', 36313920),\n",
       " (2014, 'NT04', 'Phạm Hải Yến', 26989090),\n",
       " (2014, 'CH01', 'Trần Trung Hiếu', 24919000),\n",
       " (2015, 'ST02', 'Hoàng Ngọc Minh', 79888200),\n",
       " (2015, 'CH02', 'Hoàng Minh Trung', 63385000),\n",
       " (2015, 'ST01', 'Nguyễn Minh Tâm', 63080870),\n",
       " (2015, 'ST05', 'Nguyễn Lan Tâm', 61269170),\n",
       " (2015, 'ST04', 'Nguyễn Hạnh Hoa ', 56720450),\n",
       " (2015, 'NT03', 'Lương Mạnh Tuấn', 55910990),\n",
       " (2015, 'DL03', 'Trần Đức Anh', 55617820),\n",
       " (2015, 'NT01', 'Phạm Hải Anh', 53427400),\n",
       " (2015, 'NT04', 'Phạm Hải Yến', 49491550),\n",
       " (2015, 'CH01', 'Trần Trung Hiếu', 49162000),\n",
       " (2015, 'DL04', 'Nguyễn Quang Hải', 36331000),\n",
       " (2015, 'DL05', 'Nguyễn Hồng Trang', 35541400),\n",
       " (2015, 'DL02', 'Lê Minh Trang', 35133400),\n",
       " (2015, 'ST03', 'Triệu Linh Hoa ', 31967960),\n",
       " (2015, 'NT05', 'Lê Minh Tâm', 31466040),\n",
       " (2015, 'NT02', 'Phạm Minh Tâm', 30261780),\n",
       " (2015, 'DL01', 'Lê Ngọc Lân', 24595680),\n",
       " (2016, 'CH01', 'Trần Trung Hiếu', 61935650),\n",
       " (2016, 'ST04', 'Nguyễn Hạnh Hoa ', 59178120),\n",
       " (2016, 'DL01', 'Lê Ngọc Lân', 58875460),\n",
       " (2016, 'ST02', 'Hoàng Ngọc Minh', 55200050),\n",
       " (2016, 'DL03', 'Trần Đức Anh', 47761200),\n",
       " (2016, 'NT02', 'Phạm Minh Tâm', 45584270),\n",
       " (2016, 'ST05', 'Nguyễn Lan Tâm', 45347150),\n",
       " (2016, 'DL02', 'Lê Minh Trang', 42473050),\n",
       " (2016, 'ST03', 'Triệu Linh Hoa ', 41107880),\n",
       " (2016, 'NT03', 'Lương Mạnh Tuấn', 40578050),\n",
       " (2016, 'ST01', 'Nguyễn Minh Tâm', 39838000),\n",
       " (2016, 'NT04', 'Phạm Hải Yến', 37357420),\n",
       " (2016, 'NT05', 'Lê Minh Tâm', 36319410),\n",
       " (2016, 'DL04', 'Nguyễn Quang Hải', 33739550),\n",
       " (2016, 'CH02', 'Hoàng Minh Trung', 31747320),\n",
       " (2016, 'NT01', 'Phạm Hải Anh', 20180520),\n",
       " (2016, 'DL05', 'Nguyễn Hồng Trang', 18425990)]"
      ]
     },
     "execution_count": 359,
     "metadata": {},
     "output_type": "execute_result"
    }
   ],
   "source": [
    "%%sql \n",
    "\n",
    "select distinct year, Staff_code, Staff_name, sum(Total_amount) as Revenue\n",
    "from saless_tb \n",
    "group by year, Staff_code\n",
    "order by year, Revenue desc"
   ]
  },
  {
   "cell_type": "markdown",
   "id": "69dd304e-a045-4eea-88c7-5a083e7aa1e6",
   "metadata": {},
   "source": [
    "Trên đây là bảng tổng hợp kết quả bán hàng của các nhân viên sắp xếp theo thứ tự từ cao tới thấp. \n",
    "\n",
    "Từ bảng tổng hợp có thể biết được nhân viên có kết quả bán hàng tốt nhất mỗi năm:\n",
    "\n",
    "- Năm 2014: ST04-Nguyễn Hạnh Hoa với doanh thu là 59.230.190 đồng\n",
    "\n",
    "- Năm 2015: ST02-Hoàng Ngọc Minh với doanh thu là 79.888.200 đồng \n",
    "\n",
    "- Năm 2016: CH01-Trần Trung Hiếu với doanh thu là 61.935.650 đồng"
   ]
  },
  {
   "cell_type": "markdown",
   "id": "53eacafe-b9cc-4368-9956-016e4d7df0a2",
   "metadata": {},
   "source": [
    "## Nhân viên bán hàng giỏi nhất "
   ]
  },
  {
   "cell_type": "markdown",
   "id": "b8b85b08-3ed1-4fc3-8f2c-d46bf0b2b8cc",
   "metadata": {},
   "source": [
    "### Tổng doanh thu theo kênh phân phối "
   ]
  },
  {
   "cell_type": "code",
   "execution_count": 37,
   "id": "d7820ad4-e536-475f-8b73-bcc44bedea61",
   "metadata": {},
   "outputs": [
    {
     "name": "stdout",
     "output_type": "stream",
     "text": [
      " * sqlite:///sale_2.db\n",
      "Done.\n",
      " * sqlite:///sale_2.db\n",
      "Done.\n",
      " * sqlite:///sale_2.db\n",
      "Done.\n",
      " * sqlite:///sale_2.db\n",
      "Done.\n"
     ]
    }
   ],
   "source": [
    "revenue_by_channel_ch = %sql select Year, Channel, sum(Total_amount) as Revenue from saless_tb where Channel = 'Cửa hàng sữa' group by Year, Channel order by Year, Revenue\n",
    "revenue_by_channel_đl = %sql select Year, Channel, sum(Total_amount) as Revenue from saless_tb where Channel = 'Đại lý' group by Year, Channel order by Year, Revenue\n",
    "revenue_by_channel_nt = %sql select Year, Channel, sum(Total_amount) as Revenue from saless_tb where Channel = 'Nhà thuốc' group by Year, Channel order by Year, Revenue\n",
    "revenue_by_channel_st = %sql select Year, Channel, sum(Total_amount) as Revenue from saless_tb where Channel = 'Siêu thị' group by Year, Channel order by Year, Revenue\n",
    "\n",
    "\n",
    "#chuyển kết quả query về dạng dataframe\n",
    "revenue_by_channel_ch = pd.DataFrame(revenue_by_channel_ch)\n",
    "revenue_by_channel_đl = pd.DataFrame(revenue_by_channel_đl)\n",
    "revenue_by_channel_nt = pd.DataFrame(revenue_by_channel_nt)\n",
    "revenue_by_channel_st = pd.DataFrame(revenue_by_channel_st)\n",
    "#đổi tên cột dataframe vừa tạo\n",
    "revenue_by_channel_ch = revenue_by_channel_ch.rename(columns={0:'Year',1:'Channel', 2:'Revenue'})\n",
    "revenue_by_channel_đl = revenue_by_channel_đl.rename(columns={0:'Year',1:'Channel', 2:'Revenue'})\n",
    "revenue_by_channel_nt = revenue_by_channel_nt.rename(columns={0:'Year',1:'Channel', 2:'Revenue'})\n",
    "revenue_by_channel_st = revenue_by_channel_st.rename(columns={0:'Year',1:'Channel', 2:'Revenue'})\n",
    "\n",
    "revenue_by_channel_ch['growth_rate']= revenue_by_channel_ch['Revenue'].pct_change()\n",
    "revenue_by_channel_đl['growth_rate']= revenue_by_channel_đl['Revenue'].pct_change()\n",
    "revenue_by_channel_nt['growth_rate']= revenue_by_channel_nt['Revenue'].pct_change()\n",
    "revenue_by_channel_st['growth_rate']= revenue_by_channel_st['Revenue'].pct_change()"
   ]
  },
  {
   "cell_type": "code",
   "execution_count": 361,
   "id": "0c2a5d9b-d2de-40f4-a0ba-fe828dc1e746",
   "metadata": {},
   "outputs": [
    {
     "data": {
      "text/html": [
       "<div>\n",
       "<style scoped>\n",
       "    .dataframe tbody tr th:only-of-type {\n",
       "        vertical-align: middle;\n",
       "    }\n",
       "\n",
       "    .dataframe tbody tr th {\n",
       "        vertical-align: top;\n",
       "    }\n",
       "\n",
       "    .dataframe thead th {\n",
       "        text-align: right;\n",
       "    }\n",
       "</style>\n",
       "<table border=\"1\" class=\"dataframe\">\n",
       "  <thead>\n",
       "    <tr style=\"text-align: right;\">\n",
       "      <th></th>\n",
       "      <th>Year</th>\n",
       "      <th>Channel</th>\n",
       "      <th>Revenue</th>\n",
       "      <th>growth_rate</th>\n",
       "    </tr>\n",
       "  </thead>\n",
       "  <tbody>\n",
       "    <tr>\n",
       "      <th>0</th>\n",
       "      <td>2014</td>\n",
       "      <td>Cửa hàng sữa</td>\n",
       "      <td>71047350</td>\n",
       "      <td>NaN</td>\n",
       "    </tr>\n",
       "    <tr>\n",
       "      <th>1</th>\n",
       "      <td>2015</td>\n",
       "      <td>Cửa hàng sữa</td>\n",
       "      <td>112547000</td>\n",
       "      <td>0.584113</td>\n",
       "    </tr>\n",
       "    <tr>\n",
       "      <th>2</th>\n",
       "      <td>2016</td>\n",
       "      <td>Cửa hàng sữa</td>\n",
       "      <td>93682970</td>\n",
       "      <td>-0.167610</td>\n",
       "    </tr>\n",
       "  </tbody>\n",
       "</table>\n",
       "</div>"
      ],
      "text/plain": [
       "   Year       Channel    Revenue  growth_rate\n",
       "0  2014  Cửa hàng sữa   71047350          NaN\n",
       "1  2015  Cửa hàng sữa  112547000     0.584113\n",
       "2  2016  Cửa hàng sữa   93682970    -0.167610"
      ]
     },
     "execution_count": 361,
     "metadata": {},
     "output_type": "execute_result"
    }
   ],
   "source": [
    "revenue_by_channel_ch"
   ]
  },
  {
   "cell_type": "code",
   "execution_count": 362,
   "id": "b9e06bed-8a60-4ff1-b34a-21a4735598b4",
   "metadata": {},
   "outputs": [
    {
     "data": {
      "text/html": [
       "<div>\n",
       "<style scoped>\n",
       "    .dataframe tbody tr th:only-of-type {\n",
       "        vertical-align: middle;\n",
       "    }\n",
       "\n",
       "    .dataframe tbody tr th {\n",
       "        vertical-align: top;\n",
       "    }\n",
       "\n",
       "    .dataframe thead th {\n",
       "        text-align: right;\n",
       "    }\n",
       "</style>\n",
       "<table border=\"1\" class=\"dataframe\">\n",
       "  <thead>\n",
       "    <tr style=\"text-align: right;\">\n",
       "      <th></th>\n",
       "      <th>Year</th>\n",
       "      <th>Channel</th>\n",
       "      <th>Revenue</th>\n",
       "      <th>growth_rate</th>\n",
       "    </tr>\n",
       "  </thead>\n",
       "  <tbody>\n",
       "    <tr>\n",
       "      <th>0</th>\n",
       "      <td>2014</td>\n",
       "      <td>Đại lý</td>\n",
       "      <td>250168010</td>\n",
       "      <td>NaN</td>\n",
       "    </tr>\n",
       "    <tr>\n",
       "      <th>1</th>\n",
       "      <td>2015</td>\n",
       "      <td>Đại lý</td>\n",
       "      <td>187219300</td>\n",
       "      <td>-0.251626</td>\n",
       "    </tr>\n",
       "    <tr>\n",
       "      <th>2</th>\n",
       "      <td>2016</td>\n",
       "      <td>Đại lý</td>\n",
       "      <td>201275250</td>\n",
       "      <td>0.075077</td>\n",
       "    </tr>\n",
       "  </tbody>\n",
       "</table>\n",
       "</div>"
      ],
      "text/plain": [
       "   Year Channel    Revenue  growth_rate\n",
       "0  2014  Đại lý  250168010          NaN\n",
       "1  2015  Đại lý  187219300    -0.251626\n",
       "2  2016  Đại lý  201275250     0.075077"
      ]
     },
     "execution_count": 362,
     "metadata": {},
     "output_type": "execute_result"
    }
   ],
   "source": [
    "revenue_by_channel_đl"
   ]
  },
  {
   "cell_type": "code",
   "execution_count": 363,
   "id": "f395417f-9996-4888-9fe1-9650f34a3680",
   "metadata": {},
   "outputs": [
    {
     "data": {
      "text/html": [
       "<div>\n",
       "<style scoped>\n",
       "    .dataframe tbody tr th:only-of-type {\n",
       "        vertical-align: middle;\n",
       "    }\n",
       "\n",
       "    .dataframe tbody tr th {\n",
       "        vertical-align: top;\n",
       "    }\n",
       "\n",
       "    .dataframe thead th {\n",
       "        text-align: right;\n",
       "    }\n",
       "</style>\n",
       "<table border=\"1\" class=\"dataframe\">\n",
       "  <thead>\n",
       "    <tr style=\"text-align: right;\">\n",
       "      <th></th>\n",
       "      <th>Year</th>\n",
       "      <th>Channel</th>\n",
       "      <th>Revenue</th>\n",
       "      <th>growth_rate</th>\n",
       "    </tr>\n",
       "  </thead>\n",
       "  <tbody>\n",
       "    <tr>\n",
       "      <th>0</th>\n",
       "      <td>2014</td>\n",
       "      <td>Nhà thuốc</td>\n",
       "      <td>220269200</td>\n",
       "      <td>NaN</td>\n",
       "    </tr>\n",
       "    <tr>\n",
       "      <th>1</th>\n",
       "      <td>2015</td>\n",
       "      <td>Nhà thuốc</td>\n",
       "      <td>220557760</td>\n",
       "      <td>0.001310</td>\n",
       "    </tr>\n",
       "    <tr>\n",
       "      <th>2</th>\n",
       "      <td>2016</td>\n",
       "      <td>Nhà thuốc</td>\n",
       "      <td>180019670</td>\n",
       "      <td>-0.183798</td>\n",
       "    </tr>\n",
       "  </tbody>\n",
       "</table>\n",
       "</div>"
      ],
      "text/plain": [
       "   Year    Channel    Revenue  growth_rate\n",
       "0  2014  Nhà thuốc  220269200          NaN\n",
       "1  2015  Nhà thuốc  220557760     0.001310\n",
       "2  2016  Nhà thuốc  180019670    -0.183798"
      ]
     },
     "execution_count": 363,
     "metadata": {},
     "output_type": "execute_result"
    }
   ],
   "source": [
    "revenue_by_channel_nt"
   ]
  },
  {
   "cell_type": "code",
   "execution_count": 364,
   "id": "cebd42ff-0e4a-42c0-9151-1d478888cef4",
   "metadata": {},
   "outputs": [
    {
     "data": {
      "text/html": [
       "<div>\n",
       "<style scoped>\n",
       "    .dataframe tbody tr th:only-of-type {\n",
       "        vertical-align: middle;\n",
       "    }\n",
       "\n",
       "    .dataframe tbody tr th {\n",
       "        vertical-align: top;\n",
       "    }\n",
       "\n",
       "    .dataframe thead th {\n",
       "        text-align: right;\n",
       "    }\n",
       "</style>\n",
       "<table border=\"1\" class=\"dataframe\">\n",
       "  <thead>\n",
       "    <tr style=\"text-align: right;\">\n",
       "      <th></th>\n",
       "      <th>Year</th>\n",
       "      <th>Channel</th>\n",
       "      <th>Revenue</th>\n",
       "      <th>growth_rate</th>\n",
       "    </tr>\n",
       "  </thead>\n",
       "  <tbody>\n",
       "    <tr>\n",
       "      <th>0</th>\n",
       "      <td>2014</td>\n",
       "      <td>Siêu thị</td>\n",
       "      <td>220594460</td>\n",
       "      <td>NaN</td>\n",
       "    </tr>\n",
       "    <tr>\n",
       "      <th>1</th>\n",
       "      <td>2015</td>\n",
       "      <td>Siêu thị</td>\n",
       "      <td>292926650</td>\n",
       "      <td>0.327897</td>\n",
       "    </tr>\n",
       "    <tr>\n",
       "      <th>2</th>\n",
       "      <td>2016</td>\n",
       "      <td>Siêu thị</td>\n",
       "      <td>240671200</td>\n",
       "      <td>-0.178391</td>\n",
       "    </tr>\n",
       "  </tbody>\n",
       "</table>\n",
       "</div>"
      ],
      "text/plain": [
       "   Year   Channel    Revenue  growth_rate\n",
       "0  2014  Siêu thị  220594460          NaN\n",
       "1  2015  Siêu thị  292926650     0.327897\n",
       "2  2016  Siêu thị  240671200    -0.178391"
      ]
     },
     "execution_count": 364,
     "metadata": {},
     "output_type": "execute_result"
    }
   ],
   "source": [
    "revenue_by_channel_st"
   ]
  },
  {
   "cell_type": "code",
   "execution_count": 48,
   "id": "7c26373c-9eff-48cf-9ae1-2327c40f539e",
   "metadata": {},
   "outputs": [
    {
     "data": {
      "image/png": "[encoded data removed]",
      "text/plain": [
       "<Figure size 936x720 with 1 Axes>"
      ]
     },
     "metadata": {
      "needs_background": "light"
     },
     "output_type": "display_data"
    }
   ],
   "source": [
    "x_year = [2014, 2015, 2016]\n",
    "y_revenue_by_channel_ch = revenue_by_channel_ch['Revenue']\n",
    "y_revenue_by_channel_đl = revenue_by_channel_đl['Revenue']\n",
    "y_revenue_by_channel_nt = revenue_by_channel_nt['Revenue']\n",
    "y_revenue_by_channel_st = revenue_by_channel_st['Revenue']\n",
    "\n",
    "plt.figure(figsize=(13,10))\n",
    "plt.bar(x_year, y_revenue_by_channel_ch, width = 0.4, color = 'olive')\n",
    "plt.bar(x_year, y_revenue_by_channel_đl, width = 0.4, bottom = y_revenue_by_channel_ch, color = 'yellowgreen')\n",
    "plt.bar(x_year, y_revenue_by_channel_nt, width = 0.4, bottom = y_revenue_by_channel_ch + y_revenue_by_channel_đl, color = 'lightgreen')\n",
    "plt.bar(x_year, y_revenue_by_channel_st, width = 0.4, bottom = y_revenue_by_channel_ch + y_revenue_by_channel_đl + y_revenue_by_channel_nt, color = 'mediumaquamarine')\n",
    "plt.xlabel('Năm')\n",
    "plt.ylabel('Doanh thu')\n",
    "plt.xticks(x_year, fontsize=10)\n",
    "plt.yticks(fontsize=10)\n",
    "plt.legend(['Cửa hàng sữa','Đại lý','Nhà thuốc','Siêu thị'])\n",
    "plt.title('Doanh thu theo kênh bán hàng', fontsize = 15)\n",
    "plt.show()"
   ]
  },
  {
   "cell_type": "markdown",
   "id": "33dcdf28-24a7-41de-99bd-afdca3bb63b9",
   "metadata": {},
   "source": [
    "### Nhận xét \n",
    "\n",
    "Dựa vào biểu đồ trên, có thể thấy được một vài sự thay đổi của doanh thu trên mỗi kênh bán hàng. Hệ thống siêu thị và cửa hàng sữa có xu hướng tăng trưởng doanh thu vào 2015 và giảm vào 2016. Cụ thể, năm 2015 doanh thu của các cửa hàng sữa tăng mạnh tới hơn 58% so với 2014, trong khi đó mức tăng tương ứng của hệ thống các siêu thị là hơn 32%. "
   ]
  },
  {
   "cell_type": "markdown",
   "id": "f4a619e9-02df-4241-9e26-04889018a15f",
   "metadata": {},
   "source": [
    "### Phân tích doanh thu năm 2016"
   ]
  },
  {
   "cell_type": "markdown",
   "id": "b845ebde-fe30-4451-ab95-1d2c5959c0ad",
   "metadata": {},
   "source": [
    "### Doanh thu theo quý"
   ]
  },
  {
   "cell_type": "code",
   "execution_count": 49,
   "id": "79b17f34-5717-4f95-9a18-b011a69ef8e7",
   "metadata": {},
   "outputs": [
    {
     "name": "stdout",
     "output_type": "stream",
     "text": [
      " * sqlite:///sale_2.db\n",
      "Done.\n"
     ]
    }
   ],
   "source": [
    "revenue_by_quarter_16 = %sql select Quarter, sum(Total_amount) as Revenue from saless_tb where Year = 2016 group by Quarter order by Quarter"
   ]
  },
  {
   "cell_type": "code",
   "execution_count": 50,
   "id": "7357cb55-eb92-4895-a36d-5873c12bf3ec",
   "metadata": {},
   "outputs": [
    {
     "data": {
      "text/html": [
       "<table>\n",
       "    <tr>\n",
       "        <th>Quarter</th>\n",
       "        <th>Revenue</th>\n",
       "    </tr>\n",
       "    <tr>\n",
       "        <td>1</td>\n",
       "        <td>191499120</td>\n",
       "    </tr>\n",
       "    <tr>\n",
       "        <td>2</td>\n",
       "        <td>188316280</td>\n",
       "    </tr>\n",
       "    <tr>\n",
       "        <td>3</td>\n",
       "        <td>188779940</td>\n",
       "    </tr>\n",
       "    <tr>\n",
       "        <td>4</td>\n",
       "        <td>147053750</td>\n",
       "    </tr>\n",
       "</table>"
      ],
      "text/plain": [
       "[(1, 191499120), (2, 188316280), (3, 188779940), (4, 147053750)]"
      ]
     },
     "execution_count": 50,
     "metadata": {},
     "output_type": "execute_result"
    }
   ],
   "source": [
    "revenue_by_quarter_16"
   ]
  },
  {
   "cell_type": "code",
   "execution_count": 51,
   "id": "62951aeb-5a05-44d1-9789-f5b7a1f77358",
   "metadata": {},
   "outputs": [
    {
     "data": {
      "text/html": [
       "<div>\n",
       "<style scoped>\n",
       "    .dataframe tbody tr th:only-of-type {\n",
       "        vertical-align: middle;\n",
       "    }\n",
       "\n",
       "    .dataframe tbody tr th {\n",
       "        vertical-align: top;\n",
       "    }\n",
       "\n",
       "    .dataframe thead th {\n",
       "        text-align: right;\n",
       "    }\n",
       "</style>\n",
       "<table border=\"1\" class=\"dataframe\">\n",
       "  <thead>\n",
       "    <tr style=\"text-align: right;\">\n",
       "      <th></th>\n",
       "      <th>Quarter</th>\n",
       "      <th>Revenue</th>\n",
       "      <th>grow_rate</th>\n",
       "    </tr>\n",
       "  </thead>\n",
       "  <tbody>\n",
       "    <tr>\n",
       "      <th>0</th>\n",
       "      <td>1</td>\n",
       "      <td>191499120</td>\n",
       "      <td>NaN</td>\n",
       "    </tr>\n",
       "    <tr>\n",
       "      <th>1</th>\n",
       "      <td>2</td>\n",
       "      <td>188316280</td>\n",
       "      <td>-0.016621</td>\n",
       "    </tr>\n",
       "    <tr>\n",
       "      <th>2</th>\n",
       "      <td>3</td>\n",
       "      <td>188779940</td>\n",
       "      <td>0.002462</td>\n",
       "    </tr>\n",
       "    <tr>\n",
       "      <th>3</th>\n",
       "      <td>4</td>\n",
       "      <td>147053750</td>\n",
       "      <td>-0.221031</td>\n",
       "    </tr>\n",
       "  </tbody>\n",
       "</table>\n",
       "</div>"
      ],
      "text/plain": [
       "   Quarter    Revenue  grow_rate\n",
       "0        1  191499120        NaN\n",
       "1        2  188316280  -0.016621\n",
       "2        3  188779940   0.002462\n",
       "3        4  147053750  -0.221031"
      ]
     },
     "execution_count": 51,
     "metadata": {},
     "output_type": "execute_result"
    }
   ],
   "source": [
    "#chuyển kết quả query về dạng dataframe\n",
    "revenue_by_quarter_16 = pd.DataFrame(revenue_by_quarter_16)\n",
    "#đổi tên cột dataframe vừa tạo\n",
    "revenue_by_quarter_16 = revenue_by_quarter_16.rename(columns={0:'Quarter',1:'Revenue'})\n",
    "revenue_by_quarter_16['grow_rate'] = revenue_by_quarter_16['Revenue'].pct_change()\n",
    "revenue_by_quarter_16"
   ]
  },
  {
   "cell_type": "code",
   "execution_count": 54,
   "id": "0d7837ed-898c-4549-8afb-e1f29aabcc4d",
   "metadata": {},
   "outputs": [
    {
     "data": {
      "image/png": "[encoded data removed]",
      "text/plain": [
       "<Figure size 936x360 with 1 Axes>"
      ]
     },
     "metadata": {
      "needs_background": "light"
     },
     "output_type": "display_data"
    }
   ],
   "source": [
    "x_revenue_quarter = revenue_by_quarter_16['Quarter']\n",
    "y_revenue_quarter = revenue_by_quarter_16['Revenue']\n",
    "\n",
    "plt.figure(figsize=(13,5))\n",
    "plt.plot(x_revenue_quarter, y_revenue_quarter, color = 'Teal', marker = 'o')\n",
    "plt.title(label = 'Doanh thu năm 2016 qua các quý', fontsize = 15)\n",
    "plt.xlabel('Quý',fontsize=10)\n",
    "plt.ylabel('Doanh thu',fontsize=10)\n",
    "plt.xticks(x_revenue_quarter, fontsize = 10, rotation=0)\n",
    "plt.yticks(fontsize = 10)\n",
    "plt.show()"
   ]
  },
  {
   "cell_type": "markdown",
   "id": "14b00c50-1682-44b4-963e-ecf04798da45",
   "metadata": {},
   "source": [
    "### Nhận xét \n",
    "\n",
    "Từ các phân tích trên, có thể thấy tổng doanh thu năm 2016 thấp hơn so với các năm trước đó. Từ biểu đồ trên, doanh thu quý 4 2016 giảm mạnh ảnh hưởng trực tiếp tới tổng doanh thu cả năm 2016. Cụ thể, doanh thu quý 4 thấp hơn doanh thu quý 3 khoảng hơn 22%"
   ]
  },
  {
   "cell_type": "markdown",
   "id": "d27be1d0-3f38-4abb-b8e3-641f814c6c07",
   "metadata": {},
   "source": [
    "## Qúy 4 năm 2016 thụt giảm mạnh doanh thu "
   ]
  },
  {
   "cell_type": "markdown",
   "id": "bbfde781-45e9-47fd-81a2-81be1bbd0058",
   "metadata": {},
   "source": [
    "### Doanh thu theo tháng"
   ]
  },
  {
   "cell_type": "code",
   "execution_count": 55,
   "id": "0ed3bb32-f665-4ff1-964c-6e100db70323",
   "metadata": {},
   "outputs": [
    {
     "name": "stdout",
     "output_type": "stream",
     "text": [
      " * sqlite:///sale_2.db\n",
      "Done.\n"
     ]
    },
    {
     "data": {
      "text/html": [
       "<div>\n",
       "<style scoped>\n",
       "    .dataframe tbody tr th:only-of-type {\n",
       "        vertical-align: middle;\n",
       "    }\n",
       "\n",
       "    .dataframe tbody tr th {\n",
       "        vertical-align: top;\n",
       "    }\n",
       "\n",
       "    .dataframe thead th {\n",
       "        text-align: right;\n",
       "    }\n",
       "</style>\n",
       "<table border=\"1\" class=\"dataframe\">\n",
       "  <thead>\n",
       "    <tr style=\"text-align: right;\">\n",
       "      <th></th>\n",
       "      <th>Year_month</th>\n",
       "      <th>Revenue</th>\n",
       "    </tr>\n",
       "  </thead>\n",
       "  <tbody>\n",
       "    <tr>\n",
       "      <th>0</th>\n",
       "      <td>2014.01</td>\n",
       "      <td>43426080</td>\n",
       "    </tr>\n",
       "    <tr>\n",
       "      <th>1</th>\n",
       "      <td>2014.02</td>\n",
       "      <td>65518840</td>\n",
       "    </tr>\n",
       "    <tr>\n",
       "      <th>2</th>\n",
       "      <td>2014.03</td>\n",
       "      <td>58449170</td>\n",
       "    </tr>\n",
       "    <tr>\n",
       "      <th>3</th>\n",
       "      <td>2014.04</td>\n",
       "      <td>43097240</td>\n",
       "    </tr>\n",
       "    <tr>\n",
       "      <th>4</th>\n",
       "      <td>2014.05</td>\n",
       "      <td>72599370</td>\n",
       "    </tr>\n",
       "    <tr>\n",
       "      <th>5</th>\n",
       "      <td>2014.06</td>\n",
       "      <td>77063390</td>\n",
       "    </tr>\n",
       "    <tr>\n",
       "      <th>6</th>\n",
       "      <td>2014.07</td>\n",
       "      <td>83276640</td>\n",
       "    </tr>\n",
       "    <tr>\n",
       "      <th>7</th>\n",
       "      <td>2014.08</td>\n",
       "      <td>45755850</td>\n",
       "    </tr>\n",
       "    <tr>\n",
       "      <th>8</th>\n",
       "      <td>2014.09</td>\n",
       "      <td>76894900</td>\n",
       "    </tr>\n",
       "    <tr>\n",
       "      <th>9</th>\n",
       "      <td>2014.10</td>\n",
       "      <td>71916700</td>\n",
       "    </tr>\n",
       "    <tr>\n",
       "      <th>10</th>\n",
       "      <td>2014.11</td>\n",
       "      <td>59653600</td>\n",
       "    </tr>\n",
       "    <tr>\n",
       "      <th>11</th>\n",
       "      <td>2014.12</td>\n",
       "      <td>64427240</td>\n",
       "    </tr>\n",
       "    <tr>\n",
       "      <th>12</th>\n",
       "      <td>2015.01</td>\n",
       "      <td>70898060</td>\n",
       "    </tr>\n",
       "    <tr>\n",
       "      <th>13</th>\n",
       "      <td>2015.02</td>\n",
       "      <td>70241220</td>\n",
       "    </tr>\n",
       "    <tr>\n",
       "      <th>14</th>\n",
       "      <td>2015.03</td>\n",
       "      <td>85825250</td>\n",
       "    </tr>\n",
       "    <tr>\n",
       "      <th>15</th>\n",
       "      <td>2015.04</td>\n",
       "      <td>51265500</td>\n",
       "    </tr>\n",
       "    <tr>\n",
       "      <th>16</th>\n",
       "      <td>2015.05</td>\n",
       "      <td>87145640</td>\n",
       "    </tr>\n",
       "    <tr>\n",
       "      <th>17</th>\n",
       "      <td>2015.06</td>\n",
       "      <td>65774200</td>\n",
       "    </tr>\n",
       "    <tr>\n",
       "      <th>18</th>\n",
       "      <td>2015.07</td>\n",
       "      <td>49417240</td>\n",
       "    </tr>\n",
       "    <tr>\n",
       "      <th>19</th>\n",
       "      <td>2015.08</td>\n",
       "      <td>65186280</td>\n",
       "    </tr>\n",
       "    <tr>\n",
       "      <th>20</th>\n",
       "      <td>2015.09</td>\n",
       "      <td>66830650</td>\n",
       "    </tr>\n",
       "    <tr>\n",
       "      <th>21</th>\n",
       "      <td>2015.10</td>\n",
       "      <td>87785600</td>\n",
       "    </tr>\n",
       "    <tr>\n",
       "      <th>22</th>\n",
       "      <td>2015.11</td>\n",
       "      <td>57684400</td>\n",
       "    </tr>\n",
       "    <tr>\n",
       "      <th>23</th>\n",
       "      <td>2015.12</td>\n",
       "      <td>55196670</td>\n",
       "    </tr>\n",
       "    <tr>\n",
       "      <th>24</th>\n",
       "      <td>2016.01</td>\n",
       "      <td>51157750</td>\n",
       "    </tr>\n",
       "    <tr>\n",
       "      <th>25</th>\n",
       "      <td>2016.02</td>\n",
       "      <td>77712770</td>\n",
       "    </tr>\n",
       "    <tr>\n",
       "      <th>26</th>\n",
       "      <td>2016.03</td>\n",
       "      <td>62628600</td>\n",
       "    </tr>\n",
       "    <tr>\n",
       "      <th>27</th>\n",
       "      <td>2016.04</td>\n",
       "      <td>52528150</td>\n",
       "    </tr>\n",
       "    <tr>\n",
       "      <th>28</th>\n",
       "      <td>2016.05</td>\n",
       "      <td>70030270</td>\n",
       "    </tr>\n",
       "    <tr>\n",
       "      <th>29</th>\n",
       "      <td>2016.06</td>\n",
       "      <td>65757860</td>\n",
       "    </tr>\n",
       "    <tr>\n",
       "      <th>30</th>\n",
       "      <td>2016.07</td>\n",
       "      <td>78166620</td>\n",
       "    </tr>\n",
       "    <tr>\n",
       "      <th>31</th>\n",
       "      <td>2016.08</td>\n",
       "      <td>57701060</td>\n",
       "    </tr>\n",
       "    <tr>\n",
       "      <th>32</th>\n",
       "      <td>2016.09</td>\n",
       "      <td>52912260</td>\n",
       "    </tr>\n",
       "    <tr>\n",
       "      <th>33</th>\n",
       "      <td>2016.10</td>\n",
       "      <td>58225310</td>\n",
       "    </tr>\n",
       "    <tr>\n",
       "      <th>34</th>\n",
       "      <td>2016.11</td>\n",
       "      <td>74851890</td>\n",
       "    </tr>\n",
       "    <tr>\n",
       "      <th>35</th>\n",
       "      <td>2016.12</td>\n",
       "      <td>13976550</td>\n",
       "    </tr>\n",
       "  </tbody>\n",
       "</table>\n",
       "</div>"
      ],
      "text/plain": [
       "   Year_month   Revenue\n",
       "0     2014.01  43426080\n",
       "1     2014.02  65518840\n",
       "2     2014.03  58449170\n",
       "3     2014.04  43097240\n",
       "4     2014.05  72599370\n",
       "5     2014.06  77063390\n",
       "6     2014.07  83276640\n",
       "7     2014.08  45755850\n",
       "8     2014.09  76894900\n",
       "9     2014.10  71916700\n",
       "10    2014.11  59653600\n",
       "11    2014.12  64427240\n",
       "12    2015.01  70898060\n",
       "13    2015.02  70241220\n",
       "14    2015.03  85825250\n",
       "15    2015.04  51265500\n",
       "16    2015.05  87145640\n",
       "17    2015.06  65774200\n",
       "18    2015.07  49417240\n",
       "19    2015.08  65186280\n",
       "20    2015.09  66830650\n",
       "21    2015.10  87785600\n",
       "22    2015.11  57684400\n",
       "23    2015.12  55196670\n",
       "24    2016.01  51157750\n",
       "25    2016.02  77712770\n",
       "26    2016.03  62628600\n",
       "27    2016.04  52528150\n",
       "28    2016.05  70030270\n",
       "29    2016.06  65757860\n",
       "30    2016.07  78166620\n",
       "31    2016.08  57701060\n",
       "32    2016.09  52912260\n",
       "33    2016.10  58225310\n",
       "34    2016.11  74851890\n",
       "35    2016.12  13976550"
      ]
     },
     "execution_count": 55,
     "metadata": {},
     "output_type": "execute_result"
    }
   ],
   "source": [
    "revenue_by_year_month = %sql select year_month, sum(Total_amount) from saless_tb group by year_month order by year_month\n",
    "\n",
    "#chuyển kết quả query về dạng dataframe\n",
    "revenue_by_year_month = pd.DataFrame(revenue_by_year_month)\n",
    "#đổi tên cột dataframe vừa tạo\n",
    "revenue_by_year_month = revenue_by_year_month.rename(columns={0:'Year_month',1:'Revenue'})\n",
    "revenue_by_year_month"
   ]
  },
  {
   "cell_type": "code",
   "execution_count": 56,
   "id": "fc9cd73f-da77-402a-8ded-c64a2ed86551",
   "metadata": {},
   "outputs": [
    {
     "data": {
      "image/png": "[encoded data removed]",
      "text/plain": [
       "<Figure size 936x504 with 1 Axes>"
      ]
     },
     "metadata": {
      "needs_background": "light"
     },
     "output_type": "display_data"
    }
   ],
   "source": [
    "x_revenue_by_year_month = revenue_by_year_month['Year_month']\n",
    "y_revenue_by_year_month = revenue_by_year_month['Revenue']\n",
    "\n",
    "plt.figure(figsize=(13,7))\n",
    "plt.title(label='Doanh thu theo tháng', fontsize=15)\n",
    "plt.bar(x_revenue_by_year_month, y_revenue_by_year_month, width = 0.4, color = 'olive')\n",
    "plt.xlabel('Năm.Tháng')\n",
    "plt.ylabel('Doanh thu')\n",
    "plt.xticks(x_revenue_by_year_month, fontsize=10, rotation=90)\n",
    "plt.yticks(fontsize=10, rotation=0)\n",
    "plt.show()"
   ]
  },
  {
   "cell_type": "markdown",
   "id": "50593686-82a4-491b-9d75-f7fadc7857fd",
   "metadata": {},
   "source": [
    "## Doanh thu tháng 12 thấp kỷ lục, ảnh hưởng tới doanh thu quý và năm"
   ]
  },
  {
   "cell_type": "code",
   "execution_count": 57,
   "id": "d384e30f-b689-450f-9b05-2c9899f2a1db",
   "metadata": {},
   "outputs": [
    {
     "name": "stdout",
     "output_type": "stream",
     "text": [
      " * sqlite:///sale_2.db\n",
      "Done.\n"
     ]
    },
    {
     "data": {
      "text/html": [
       "<div>\n",
       "<style scoped>\n",
       "    .dataframe tbody tr th:only-of-type {\n",
       "        vertical-align: middle;\n",
       "    }\n",
       "\n",
       "    .dataframe tbody tr th {\n",
       "        vertical-align: top;\n",
       "    }\n",
       "\n",
       "    .dataframe thead th {\n",
       "        text-align: right;\n",
       "    }\n",
       "</style>\n",
       "<table border=\"1\" class=\"dataframe\">\n",
       "  <thead>\n",
       "    <tr style=\"text-align: right;\">\n",
       "      <th></th>\n",
       "      <th>Year</th>\n",
       "      <th>Revenue</th>\n",
       "      <th>grow_revenue_12</th>\n",
       "    </tr>\n",
       "  </thead>\n",
       "  <tbody>\n",
       "    <tr>\n",
       "      <th>0</th>\n",
       "      <td>2014</td>\n",
       "      <td>64427240</td>\n",
       "      <td>NaN</td>\n",
       "    </tr>\n",
       "    <tr>\n",
       "      <th>1</th>\n",
       "      <td>2015</td>\n",
       "      <td>55196670</td>\n",
       "      <td>-0.143271</td>\n",
       "    </tr>\n",
       "    <tr>\n",
       "      <th>2</th>\n",
       "      <td>2016</td>\n",
       "      <td>13976550</td>\n",
       "      <td>-0.746786</td>\n",
       "    </tr>\n",
       "  </tbody>\n",
       "</table>\n",
       "</div>"
      ],
      "text/plain": [
       "   Year   Revenue  grow_revenue_12\n",
       "0  2014  64427240              NaN\n",
       "1  2015  55196670        -0.143271\n",
       "2  2016  13976550        -0.746786"
      ]
     },
     "execution_count": 57,
     "metadata": {},
     "output_type": "execute_result"
    }
   ],
   "source": [
    "revenue_12 = %sql select year, month, sum(Total_amount) as revenue from saless_tb where month = 12 group by year, month order by year\n",
    "#chuyển kết quả query về dạng dataframe\n",
    "revenue_12 = pd.DataFrame(revenue_12)\n",
    "#đổi tên cột dataframe vừa tạo\n",
    "revenue_12 = revenue_12.rename(columns={0:'Year',1:'Month', 2:'Revenue'})\n",
    "revenue_12['grow_revenue_12'] = revenue_12['Revenue'].pct_change()\n",
    "revenue_12[['Year','Revenue','grow_revenue_12']]"
   ]
  },
  {
   "cell_type": "code",
   "execution_count": 61,
   "id": "23ec51ed-208a-4eaf-b8a2-d4cb39c82724",
   "metadata": {
    "tags": []
   },
   "outputs": [
    {
     "data": {
      "image/png": "[encoded data removed]",
      "text/plain": [
       "<Figure size 936x360 with 1 Axes>"
      ]
     },
     "metadata": {
      "needs_background": "light"
     },
     "output_type": "display_data"
    }
   ],
   "source": [
    "x_12 = revenue_12['Year']\n",
    "y_12 = revenue_12['Revenue']\n",
    "\n",
    "plt.figure(figsize=(13,5))\n",
    "plt.bar(x_12, y_12, width = 0.4, color = 'darkslategray')\n",
    "plt.title(label = 'So sánh doanh thu tháng 12 giữa các năm', fontsize = 15)\n",
    "plt.xlabel('Năm')\n",
    "plt.ylabel('Doanh thu')\n",
    "plt.xticks(x_12, fontsize = 10, rotation=0)\n",
    "plt.yticks(fontsize = 10)\n",
    "plt.show()"
   ]
  },
  {
   "cell_type": "markdown",
   "id": "42920135-93a3-4702-a2c2-4df09c870b59",
   "metadata": {},
   "source": [
    "### Nhận xét\n",
    "\n",
    "Từ biểu đồ trên có thể thấy, doanh thu quý 4 năm 2016 giảm mạnh so với các quý trước đó là do doanh thu tháng 12 năm 2016 giảm mạnh bất ngờ, so với cùng kỳ tháng 12 năm 2015, mức giảm lên tới gần 75%. \n",
    "\n",
    "==> Cần kiểm tra nguyên nhân khiến doanh thu giảm mạnh như trên."
   ]
  },
  {
   "cell_type": "markdown",
   "id": "f48600cc-6b08-4dd1-890e-197467d3c411",
   "metadata": {},
   "source": [
    "<b>Số lượng nhân viên bán hàng tháng 12 qua các năm"
   ]
  },
  {
   "cell_type": "code",
   "execution_count": 385,
   "id": "7f9abe24-e9d2-4aae-9d8f-3f6cd4e21480",
   "metadata": {},
   "outputs": [
    {
     "name": "stdout",
     "output_type": "stream",
     "text": [
      "   sqlite:///data_sales_vpbank.db\n",
      "   sqlite:///mall_sale.db\n",
      " * sqlite:///sale_1.db\n",
      "   sqlite:///sale_ecommerce.db\n",
      "Done.\n"
     ]
    },
    {
     "data": {
      "text/html": [
       "<table>\n",
       "    <tr>\n",
       "        <th>year</th>\n",
       "        <th>month</th>\n",
       "        <th>num_staff</th>\n",
       "    </tr>\n",
       "    <tr>\n",
       "        <td>2014</td>\n",
       "        <td>12</td>\n",
       "        <td>15</td>\n",
       "    </tr>\n",
       "    <tr>\n",
       "        <td>2015</td>\n",
       "        <td>12</td>\n",
       "        <td>15</td>\n",
       "    </tr>\n",
       "    <tr>\n",
       "        <td>2016</td>\n",
       "        <td>12</td>\n",
       "        <td>8</td>\n",
       "    </tr>\n",
       "</table>"
      ],
      "text/plain": [
       "[(2014, 12, 15), (2015, 12, 15), (2016, 12, 8)]"
      ]
     },
     "execution_count": 385,
     "metadata": {},
     "output_type": "execute_result"
    }
   ],
   "source": [
    "%%sql \n",
    "\n",
    "select year, month, count(distinct Staff_code) as num_staff\n",
    "from saless_tb \n",
    "where month = 12\n",
    "group by year, month \n",
    "order by year "
   ]
  },
  {
   "cell_type": "markdown",
   "id": "3f2d1228-3b03-4b74-9710-21afcc6beca8",
   "metadata": {},
   "source": [
    "### Nhận xét \n",
    "\n",
    "Một trong những nguyên nhân khiến doanh thu tháng 12 sụt giảm là do thiếu nhân viên bán hàng. Cụ thể, số nhân viên bán hàng vào thời điểm tháng 12 năm 2016 chỉ là 8 người, ít hơn 3 người so với 2 năm trước đó."
   ]
  },
  {
   "cell_type": "markdown",
   "id": "1787d7c7-46fc-4b84-aa6d-ddbb0ec16709",
   "metadata": {},
   "source": [
    "<b> Doanh số bán hàng trung bình/nhân viên tháng 12 năm 2016"
   ]
  },
  {
   "cell_type": "code",
   "execution_count": 376,
   "id": "ea9c8d34-f418-48ac-949b-f4a34bb5d237",
   "metadata": {},
   "outputs": [
    {
     "name": "stdout",
     "output_type": "stream",
     "text": [
      "   sqlite:///data_sales_vpbank.db\n",
      "   sqlite:///mall_sale.db\n",
      " * sqlite:///sale_1.db\n",
      "   sqlite:///sale_ecommerce.db\n",
      "Done.\n"
     ]
    },
    {
     "data": {
      "text/html": [
       "<div>\n",
       "<style scoped>\n",
       "    .dataframe tbody tr th:only-of-type {\n",
       "        vertical-align: middle;\n",
       "    }\n",
       "\n",
       "    .dataframe tbody tr th {\n",
       "        vertical-align: top;\n",
       "    }\n",
       "\n",
       "    .dataframe thead th {\n",
       "        text-align: right;\n",
       "    }\n",
       "</style>\n",
       "<table border=\"1\" class=\"dataframe\">\n",
       "  <thead>\n",
       "    <tr style=\"text-align: right;\">\n",
       "      <th></th>\n",
       "      <th>Year</th>\n",
       "      <th>Staff_performance</th>\n",
       "      <th>grow_performance_rate</th>\n",
       "    </tr>\n",
       "  </thead>\n",
       "  <tbody>\n",
       "    <tr>\n",
       "      <th>0</th>\n",
       "      <td>2014</td>\n",
       "      <td>4295149</td>\n",
       "      <td>NaN</td>\n",
       "    </tr>\n",
       "    <tr>\n",
       "      <th>1</th>\n",
       "      <td>2015</td>\n",
       "      <td>3679778</td>\n",
       "      <td>-0.143271</td>\n",
       "    </tr>\n",
       "    <tr>\n",
       "      <th>2</th>\n",
       "      <td>2016</td>\n",
       "      <td>1747068</td>\n",
       "      <td>-0.525225</td>\n",
       "    </tr>\n",
       "  </tbody>\n",
       "</table>\n",
       "</div>"
      ],
      "text/plain": [
       "   Year  Staff_performance  grow_performance_rate\n",
       "0  2014            4295149                    NaN\n",
       "1  2015            3679778              -0.143271\n",
       "2  2016            1747068              -0.525225"
      ]
     },
     "execution_count": 376,
     "metadata": {},
     "output_type": "execute_result"
    }
   ],
   "source": [
    "staff_performance_by_year = %sql select year, sum(Total_amount)/count(distinct Staff_code) as staff_performance from saless_tb where month = 12 group by year order by year\n",
    "\n",
    "#chuyển kết quả query về dạng dataframe\n",
    "staff_performance_by_year = pd.DataFrame(staff_performance_by_year)\n",
    "#đổi tên cột dataframe vừa tạo\n",
    "staff_performance_by_year = staff_performance_by_year.rename(columns={0:'Year',1:'Staff_performance'})\n",
    "staff_performance_by_year['grow_performance_rate'] = staff_performance_by_year['Staff_performance'].pct_change()\n",
    "staff_performance_by_year"
   ]
  },
  {
   "cell_type": "markdown",
   "id": "c3f94c60-1b56-47d7-82a8-817fb211e7b8",
   "metadata": {},
   "source": [
    "### Nhận xét\n",
    "\n",
    "Nguyên nhân thứ hai dẫn tới giảm sụt về doanh thu ở tháng 12 năm 2016 là do hiệu suất bán hàng của các nhân viên không hiệu quả. Doanh số bán hàng/nhân viên tháng 12 năm 2016 chỉ đạt khoảng hơn 1.7 triệu đồng (giảm hơn 52% so với cùng kỳ năm 2015)."
   ]
  },
  {
   "cell_type": "code",
   "execution_count": 62,
   "id": "4012b84b-63b8-443d-b120-8d6c585de847",
   "metadata": {},
   "outputs": [
    {
     "name": "stdout",
     "output_type": "stream",
     "text": [
      " * sqlite:///sale_2.db\n",
      "Done.\n"
     ]
    },
    {
     "data": {
      "text/html": [
       "<div>\n",
       "<style scoped>\n",
       "    .dataframe tbody tr th:only-of-type {\n",
       "        vertical-align: middle;\n",
       "    }\n",
       "\n",
       "    .dataframe tbody tr th {\n",
       "        vertical-align: top;\n",
       "    }\n",
       "\n",
       "    .dataframe thead th {\n",
       "        text-align: right;\n",
       "    }\n",
       "</style>\n",
       "<table border=\"1\" class=\"dataframe\">\n",
       "  <thead>\n",
       "    <tr style=\"text-align: right;\">\n",
       "      <th></th>\n",
       "      <th>City</th>\n",
       "      <th>Staff_performance</th>\n",
       "    </tr>\n",
       "  </thead>\n",
       "  <tbody>\n",
       "    <tr>\n",
       "      <th>0</th>\n",
       "      <td>Hà Nội</td>\n",
       "      <td>952459750</td>\n",
       "    </tr>\n",
       "    <tr>\n",
       "      <th>1</th>\n",
       "      <td>TP.HCM</td>\n",
       "      <td>854380220</td>\n",
       "    </tr>\n",
       "    <tr>\n",
       "      <th>2</th>\n",
       "      <td>Đà Nẵng</td>\n",
       "      <td>484138850</td>\n",
       "    </tr>\n",
       "  </tbody>\n",
       "</table>\n",
       "</div>"
      ],
      "text/plain": [
       "      City  Staff_performance\n",
       "0   Hà Nội          952459750\n",
       "1   TP.HCM          854380220\n",
       "2  Đà Nẵng          484138850"
      ]
     },
     "execution_count": 62,
     "metadata": {},
     "output_type": "execute_result"
    }
   ],
   "source": [
    "revenue_by_city = %sql select City, sum(Total_amount) as Revenue from saless_tb group by City order by Revenue desc\n",
    "#chuyển kết quả query về dạng dataframe\n",
    "revenue_by_city = pd.DataFrame(revenue_by_city)\n",
    "#đổi tên cột dataframe vừa tạo\n",
    "revenue_by_city = revenue_by_city.rename(columns={0:'City',1:'Staff_performance'})\n",
    "revenue_by_city"
   ]
  },
  {
   "cell_type": "code",
   "execution_count": 66,
   "id": "82acfbca-4730-4203-a2a8-e4ac53ac6567",
   "metadata": {},
   "outputs": [
    {
     "data": {
      "image/png": "[encoded data removed]",
      "text/plain": [
       "<Figure size 720x504 with 1 Axes>"
      ]
     },
     "metadata": {},
     "output_type": "display_data"
    }
   ],
   "source": [
    "labels = revenue_by_city['City']\n",
    "sizes = revenue_by_city['Staff_performance']\n",
    "explodes = [0.1,0,0]\n",
    "colors = ['teal','olive','yellowgreen']\n",
    "\n",
    "plt.figure(figsize=(10,7))\n",
    "plt.pie(sizes, labels = labels, explode = explodes,  colors = colors, startangle = 90, autopct='%1.1f%%')\n",
    "plt.title('Cơ cấu doanh thu theo các thành phố', fontsize = 15)\n",
    "plt.legend()\n",
    "plt.show()"
   ]
  },
  {
   "cell_type": "markdown",
   "id": "732bc04d-da5a-468d-943c-683633c943a7",
   "metadata": {},
   "source": [
    "### Nhận xét \n",
    "\n",
    "Các điểm bán hàng đặt tại 3 thành phố lớn của cả nước. Hà Nội là thành phố có doanh thu bán hàng cao nhất với tỷ lệ chiếm trong cơ cấu doanh thu là hơn 41.6%, tiếp sau đó là TP HCM là 37.3%, cuối cùng là Đà Nẵng với 21.1%"
   ]
  },
  {
   "cell_type": "markdown",
   "id": "34aa07d2-284a-41b5-90e0-5818d798ef60",
   "metadata": {},
   "source": [
    "### Doanh thu theo khách hàng "
   ]
  },
  {
   "cell_type": "code",
   "execution_count": 71,
   "id": "3978b0d8-3cb2-4655-aa72-b7b024fd6f0b",
   "metadata": {},
   "outputs": [
    {
     "name": "stdout",
     "output_type": "stream",
     "text": [
      " * sqlite:///sale_2.db\n",
      "Done.\n"
     ]
    },
    {
     "data": {
      "text/html": [
       "<div>\n",
       "<style scoped>\n",
       "    .dataframe tbody tr th:only-of-type {\n",
       "        vertical-align: middle;\n",
       "    }\n",
       "\n",
       "    .dataframe tbody tr th {\n",
       "        vertical-align: top;\n",
       "    }\n",
       "\n",
       "    .dataframe thead th {\n",
       "        text-align: right;\n",
       "    }\n",
       "</style>\n",
       "<table border=\"1\" class=\"dataframe\">\n",
       "  <thead>\n",
       "    <tr style=\"text-align: right;\">\n",
       "      <th></th>\n",
       "      <th>Customer</th>\n",
       "      <th>Revenue</th>\n",
       "    </tr>\n",
       "  </thead>\n",
       "  <tbody>\n",
       "    <tr>\n",
       "      <th>0</th>\n",
       "      <td>Khách lẻ</td>\n",
       "      <td>530459000</td>\n",
       "    </tr>\n",
       "    <tr>\n",
       "      <th>1</th>\n",
       "      <td>Doanh nghiệp A</td>\n",
       "      <td>50759040</td>\n",
       "    </tr>\n",
       "    <tr>\n",
       "      <th>2</th>\n",
       "      <td>Trường học A</td>\n",
       "      <td>43431000</td>\n",
       "    </tr>\n",
       "    <tr>\n",
       "      <th>3</th>\n",
       "      <td>Doanh nghiệp B</td>\n",
       "      <td>41685050</td>\n",
       "    </tr>\n",
       "    <tr>\n",
       "      <th>4</th>\n",
       "      <td>Trường học B</td>\n",
       "      <td>25832000</td>\n",
       "    </tr>\n",
       "    <tr>\n",
       "      <th>5</th>\n",
       "      <td>Tổ chức A</td>\n",
       "      <td>23483000</td>\n",
       "    </tr>\n",
       "  </tbody>\n",
       "</table>\n",
       "</div>"
      ],
      "text/plain": [
       "         Customer    Revenue\n",
       "0        Khách lẻ  530459000\n",
       "1  Doanh nghiệp A   50759040\n",
       "2    Trường học A   43431000\n",
       "3  Doanh nghiệp B   41685050\n",
       "4    Trường học B   25832000\n",
       "5       Tổ chức A   23483000"
      ]
     },
     "execution_count": 71,
     "metadata": {},
     "output_type": "execute_result"
    }
   ],
   "source": [
    "revenue_by_customer = %sql select Customer, sum(Total_amount) as Revenue from saless_tb where year = 2016 group by Customer order by Revenue desc\n",
    "#chuyển kết quả query về dạng dataframe\n",
    "revenue_by_customer = pd.DataFrame(revenue_by_customer)\n",
    "#đổi tên cột dataframe vừa tạo\n",
    "revenue_by_customer = revenue_by_customer.rename(columns={0:'Customer',1:'Revenue'})\n",
    "revenue_by_customer"
   ]
  },
  {
   "cell_type": "code",
   "execution_count": 77,
   "id": "8927c0c1-4554-4419-898c-44c3524b1584",
   "metadata": {},
   "outputs": [
    {
     "data": {
      "image/png": "[encoded data removed]",
      "text/plain": [
       "<Figure size 720x504 with 1 Axes>"
      ]
     },
     "metadata": {
      "needs_background": "light"
     },
     "output_type": "display_data"
    }
   ],
   "source": [
    "x_revenue = revenue_by_customer['Customer']\n",
    "y_cust = revenue_by_customer['Revenue']\n",
    "\n",
    "plt.figure(figsize=(10,7))\n",
    "plt.barh(x_revenue, y_cust, height=0.4, color = 'mediumseagreen')\n",
    "plt.xlabel('Doanh thu', fontsize=10)\n",
    "plt.ylabel('Khách hàng', fontsize=10)\n",
    "plt.title('Top khách hàng mang lại doanh thu cao nhất năm 2016', fontsize=15)\n",
    "plt.gca().invert_yaxis()\n",
    "plt.show()"
   ]
  },
  {
   "cell_type": "markdown",
   "id": "12dbafd6-49f0-4e91-9496-da080db308df",
   "metadata": {},
   "source": [
    "### Nhận xét \n",
    "\n",
    "Dựa vào biểu đồ trên có thể thấy, doanh thu chủ yếu tới từ nguồn khách lẻ (khoảng hơn 530 triệu đồng).\n",
    "\n",
    "Thứ tự sắp xếp theo doanh thu các khách hàng tổ chức của công ty: \n",
    "\n",
    "- Doanh nghiêp A: 50.759.040 đồng \n",
    "- Trường học A: 43.431.000 đồng \n",
    "- Doanh nghiệp B: 41.685.050 đồng \n",
    "- Trường học B: 25.832.000 đồng\n",
    "- Tổ chức A: 23.483.000 đồng "
   ]
  },
  {
   "cell_type": "markdown",
   "id": "a29df08b-ac07-43ab-8284-d4242d2891ee",
   "metadata": {},
   "source": [
    "## Doanh thu chủ yếu từ khách lẻ, xếp sau đó là một số khách hàng như Doanh nghiệp A, Trường học A"
   ]
  },
  {
   "cell_type": "code",
   "execution_count": 74,
   "id": "9942498c-708e-4a7f-b01f-9d1b311d0527",
   "metadata": {},
   "outputs": [
    {
     "name": "stdout",
     "output_type": "stream",
     "text": [
      " * sqlite:///sale_2.db\n",
      "Done.\n",
      " * sqlite:///sale_2.db\n",
      "Done.\n",
      " * sqlite:///sale_2.db\n",
      "Done.\n",
      " * sqlite:///sale_2.db\n",
      "Done.\n",
      " * sqlite:///sale_2.db\n",
      "Done.\n",
      " * sqlite:///sale_2.db\n",
      "Done.\n"
     ]
    }
   ],
   "source": [
    "revenue_by_cust_tca = %sql select year, sum(Total_amount) as Revenue from saless_tb where Customer = 'Tổ chức A' and month = 12 group by year order by Revenue\n",
    "revenue_by_cust_tha = %sql select year, sum(Total_amount) as Revenue from saless_tb where Customer = 'Trường học A' and month = 12 group by year order by Revenue\n",
    "revenue_by_cust_thb = %sql select year, sum(Total_amount) as Revenue from saless_tb where Customer = 'Trường học B' and month = 12 group by year order by Revenue\n",
    "revenue_by_cust_dna = %sql select year, sum(Total_amount) as Revenue from saless_tb where Customer = 'Doanh nghiệp A' and month = 12 group by year order by Revenue\n",
    "revenue_by_cust_dnb = %sql select year, sum(Total_amount) as Revenue from saless_tb where Customer = 'Doanh nghiệp B' and month = 12 group by year order by Revenue\n",
    "revenue_by_cust_kl = %sql select year, sum(Total_amount) as Revenue from saless_tb where Customer = 'Khách lẻ' and month = 12 group by year order by Revenue\n",
    "\n",
    "\n",
    "#chuyển kết quả query về dạng dataframe\n",
    "revenue_by_cust_tca = pd.DataFrame(revenue_by_cust_tca)\n",
    "revenue_by_cust_tha = pd.DataFrame(revenue_by_cust_tha)\n",
    "revenue_by_cust_thb = pd.DataFrame(revenue_by_cust_thb)\n",
    "revenue_by_cust_dna = pd.DataFrame(revenue_by_cust_dna)\n",
    "revenue_by_cust_dnb = pd.DataFrame(revenue_by_cust_dnb)\n",
    "revenue_by_cust_kl = pd.DataFrame(revenue_by_cust_kl)\n",
    "\n",
    "#đổi tên cột dataframe vừa tạo\n",
    "revenue_by_cust_tca = revenue_by_cust_tca.rename(columns={0:'City',1:'Revenue'})\n",
    "revenue_by_cust_tha = revenue_by_cust_tha.rename(columns={0:'City',1:'Revenue'})\n",
    "revenue_by_cust_thb = revenue_by_cust_thb.rename(columns={0:'City',1:'Revenue'})\n",
    "revenue_by_cust_dna = revenue_by_cust_dna.rename(columns={0:'City',1:'Revenue'})\n",
    "revenue_by_cust_dnb = revenue_by_cust_dnb.rename(columns={0:'City',1:'Revenue'})\n",
    "revenue_by_cust_kl = revenue_by_cust_kl.rename(columns={0:'City',1:'Revenue'})"
   ]
  },
  {
   "cell_type": "code",
   "execution_count": 408,
   "id": "4c7c1517-f675-4397-b2d8-ae9ba96587bf",
   "metadata": {},
   "outputs": [
    {
     "data": {
      "text/html": [
       "<div>\n",
       "<style scoped>\n",
       "    .dataframe tbody tr th:only-of-type {\n",
       "        vertical-align: middle;\n",
       "    }\n",
       "\n",
       "    .dataframe tbody tr th {\n",
       "        vertical-align: top;\n",
       "    }\n",
       "\n",
       "    .dataframe thead th {\n",
       "        text-align: right;\n",
       "    }\n",
       "</style>\n",
       "<table border=\"1\" class=\"dataframe\">\n",
       "  <thead>\n",
       "    <tr style=\"text-align: right;\">\n",
       "      <th></th>\n",
       "      <th>City</th>\n",
       "      <th>Revenue</th>\n",
       "    </tr>\n",
       "  </thead>\n",
       "  <tbody>\n",
       "    <tr>\n",
       "      <th>0</th>\n",
       "      <td>2014</td>\n",
       "      <td>1728000</td>\n",
       "    </tr>\n",
       "    <tr>\n",
       "      <th>1</th>\n",
       "      <td>2015</td>\n",
       "      <td>1759000</td>\n",
       "    </tr>\n",
       "  </tbody>\n",
       "</table>\n",
       "</div>"
      ],
      "text/plain": [
       "   City  Revenue\n",
       "0  2014  1728000\n",
       "1  2015  1759000"
      ]
     },
     "execution_count": 408,
     "metadata": {},
     "output_type": "execute_result"
    }
   ],
   "source": [
    "revenue_by_cust_tca"
   ]
  },
  {
   "cell_type": "code",
   "execution_count": 409,
   "id": "6a817697-9b21-48a0-84c7-81970114775a",
   "metadata": {},
   "outputs": [
    {
     "data": {
      "text/html": [
       "<div>\n",
       "<style scoped>\n",
       "    .dataframe tbody tr th:only-of-type {\n",
       "        vertical-align: middle;\n",
       "    }\n",
       "\n",
       "    .dataframe tbody tr th {\n",
       "        vertical-align: top;\n",
       "    }\n",
       "\n",
       "    .dataframe thead th {\n",
       "        text-align: right;\n",
       "    }\n",
       "</style>\n",
       "<table border=\"1\" class=\"dataframe\">\n",
       "  <thead>\n",
       "    <tr style=\"text-align: right;\">\n",
       "      <th></th>\n",
       "      <th>City</th>\n",
       "      <th>Revenue</th>\n",
       "    </tr>\n",
       "  </thead>\n",
       "  <tbody>\n",
       "    <tr>\n",
       "      <th>0</th>\n",
       "      <td>2016</td>\n",
       "      <td>246000</td>\n",
       "    </tr>\n",
       "    <tr>\n",
       "      <th>1</th>\n",
       "      <td>2015</td>\n",
       "      <td>375000</td>\n",
       "    </tr>\n",
       "    <tr>\n",
       "      <th>2</th>\n",
       "      <td>2014</td>\n",
       "      <td>770000</td>\n",
       "    </tr>\n",
       "  </tbody>\n",
       "</table>\n",
       "</div>"
      ],
      "text/plain": [
       "   City  Revenue\n",
       "0  2016   246000\n",
       "1  2015   375000\n",
       "2  2014   770000"
      ]
     },
     "execution_count": 409,
     "metadata": {},
     "output_type": "execute_result"
    }
   ],
   "source": [
    "revenue_by_cust_tha"
   ]
  },
  {
   "cell_type": "code",
   "execution_count": 410,
   "id": "51202abb-d35b-4e1b-96d7-d18fcd0eacb8",
   "metadata": {},
   "outputs": [
    {
     "data": {
      "text/html": [
       "<div>\n",
       "<style scoped>\n",
       "    .dataframe tbody tr th:only-of-type {\n",
       "        vertical-align: middle;\n",
       "    }\n",
       "\n",
       "    .dataframe tbody tr th {\n",
       "        vertical-align: top;\n",
       "    }\n",
       "\n",
       "    .dataframe thead th {\n",
       "        text-align: right;\n",
       "    }\n",
       "</style>\n",
       "<table border=\"1\" class=\"dataframe\">\n",
       "  <thead>\n",
       "    <tr style=\"text-align: right;\">\n",
       "      <th></th>\n",
       "      <th>City</th>\n",
       "      <th>Revenue</th>\n",
       "    </tr>\n",
       "  </thead>\n",
       "  <tbody>\n",
       "    <tr>\n",
       "      <th>0</th>\n",
       "      <td>2016</td>\n",
       "      <td>749000</td>\n",
       "    </tr>\n",
       "    <tr>\n",
       "      <th>1</th>\n",
       "      <td>2015</td>\n",
       "      <td>4235000</td>\n",
       "    </tr>\n",
       "    <tr>\n",
       "      <th>2</th>\n",
       "      <td>2014</td>\n",
       "      <td>9709000</td>\n",
       "    </tr>\n",
       "  </tbody>\n",
       "</table>\n",
       "</div>"
      ],
      "text/plain": [
       "   City  Revenue\n",
       "0  2016   749000\n",
       "1  2015  4235000\n",
       "2  2014  9709000"
      ]
     },
     "execution_count": 410,
     "metadata": {},
     "output_type": "execute_result"
    }
   ],
   "source": [
    "revenue_by_cust_thb"
   ]
  },
  {
   "cell_type": "code",
   "execution_count": 411,
   "id": "366d7103-2330-4c68-8637-469e7f4675f4",
   "metadata": {},
   "outputs": [
    {
     "data": {
      "text/html": [
       "<div>\n",
       "<style scoped>\n",
       "    .dataframe tbody tr th:only-of-type {\n",
       "        vertical-align: middle;\n",
       "    }\n",
       "\n",
       "    .dataframe tbody tr th {\n",
       "        vertical-align: top;\n",
       "    }\n",
       "\n",
       "    .dataframe thead th {\n",
       "        text-align: right;\n",
       "    }\n",
       "</style>\n",
       "<table border=\"1\" class=\"dataframe\">\n",
       "  <thead>\n",
       "    <tr style=\"text-align: right;\">\n",
       "      <th></th>\n",
       "      <th>City</th>\n",
       "      <th>Revenue</th>\n",
       "    </tr>\n",
       "  </thead>\n",
       "  <tbody>\n",
       "    <tr>\n",
       "      <th>0</th>\n",
       "      <td>2015</td>\n",
       "      <td>49920</td>\n",
       "    </tr>\n",
       "    <tr>\n",
       "      <th>1</th>\n",
       "      <td>2014</td>\n",
       "      <td>2264640</td>\n",
       "    </tr>\n",
       "  </tbody>\n",
       "</table>\n",
       "</div>"
      ],
      "text/plain": [
       "   City  Revenue\n",
       "0  2015    49920\n",
       "1  2014  2264640"
      ]
     },
     "execution_count": 411,
     "metadata": {},
     "output_type": "execute_result"
    }
   ],
   "source": [
    "revenue_by_cust_dna"
   ]
  },
  {
   "cell_type": "code",
   "execution_count": 412,
   "id": "295a838c-59b6-42bd-b328-3a843bedce0c",
   "metadata": {},
   "outputs": [
    {
     "data": {
      "text/html": [
       "<div>\n",
       "<style scoped>\n",
       "    .dataframe tbody tr th:only-of-type {\n",
       "        vertical-align: middle;\n",
       "    }\n",
       "\n",
       "    .dataframe tbody tr th {\n",
       "        vertical-align: top;\n",
       "    }\n",
       "\n",
       "    .dataframe thead th {\n",
       "        text-align: right;\n",
       "    }\n",
       "</style>\n",
       "<table border=\"1\" class=\"dataframe\">\n",
       "  <thead>\n",
       "    <tr style=\"text-align: right;\">\n",
       "      <th></th>\n",
       "      <th>City</th>\n",
       "      <th>Revenue</th>\n",
       "    </tr>\n",
       "  </thead>\n",
       "  <tbody>\n",
       "    <tr>\n",
       "      <th>0</th>\n",
       "      <td>2016</td>\n",
       "      <td>559550</td>\n",
       "    </tr>\n",
       "    <tr>\n",
       "      <th>1</th>\n",
       "      <td>2014</td>\n",
       "      <td>767600</td>\n",
       "    </tr>\n",
       "    <tr>\n",
       "      <th>2</th>\n",
       "      <td>2015</td>\n",
       "      <td>5856750</td>\n",
       "    </tr>\n",
       "  </tbody>\n",
       "</table>\n",
       "</div>"
      ],
      "text/plain": [
       "   City  Revenue\n",
       "0  2016   559550\n",
       "1  2014   767600\n",
       "2  2015  5856750"
      ]
     },
     "execution_count": 412,
     "metadata": {},
     "output_type": "execute_result"
    }
   ],
   "source": [
    "revenue_by_cust_dnb"
   ]
  },
  {
   "cell_type": "code",
   "execution_count": 413,
   "id": "b803e5d2-c1af-416d-87b4-721728ffb30e",
   "metadata": {},
   "outputs": [
    {
     "data": {
      "text/html": [
       "<div>\n",
       "<style scoped>\n",
       "    .dataframe tbody tr th:only-of-type {\n",
       "        vertical-align: middle;\n",
       "    }\n",
       "\n",
       "    .dataframe tbody tr th {\n",
       "        vertical-align: top;\n",
       "    }\n",
       "\n",
       "    .dataframe thead th {\n",
       "        text-align: right;\n",
       "    }\n",
       "</style>\n",
       "<table border=\"1\" class=\"dataframe\">\n",
       "  <thead>\n",
       "    <tr style=\"text-align: right;\">\n",
       "      <th></th>\n",
       "      <th>City</th>\n",
       "      <th>Revenue</th>\n",
       "    </tr>\n",
       "  </thead>\n",
       "  <tbody>\n",
       "    <tr>\n",
       "      <th>0</th>\n",
       "      <td>2016</td>\n",
       "      <td>12422000</td>\n",
       "    </tr>\n",
       "    <tr>\n",
       "      <th>1</th>\n",
       "      <td>2015</td>\n",
       "      <td>42921000</td>\n",
       "    </tr>\n",
       "    <tr>\n",
       "      <th>2</th>\n",
       "      <td>2014</td>\n",
       "      <td>49188000</td>\n",
       "    </tr>\n",
       "  </tbody>\n",
       "</table>\n",
       "</div>"
      ],
      "text/plain": [
       "   City   Revenue\n",
       "0  2016  12422000\n",
       "1  2015  42921000\n",
       "2  2014  49188000"
      ]
     },
     "execution_count": 413,
     "metadata": {},
     "output_type": "execute_result"
    }
   ],
   "source": [
    "revenue_by_cust_kl"
   ]
  },
  {
   "cell_type": "code",
   "execution_count": 78,
   "id": "f9343100-2154-4ec0-82ce-5f9d1cdf1f9b",
   "metadata": {},
   "outputs": [
    {
     "data": {
      "image/png": "[encoded data removed]",
      "text/plain": [
       "<Figure size 1080x504 with 1 Axes>"
      ]
     },
     "metadata": {
      "needs_background": "light"
     },
     "output_type": "display_data"
    }
   ],
   "source": [
    "x_year = [2014, 2015, 2016]\n",
    "y_revenue_by_cust_tca = [1728000,1759000,0]\n",
    "y_revenue_by_cust_tha = revenue_by_cust_tha['Revenue']\n",
    "y_revenue_by_cust_thb = revenue_by_cust_thb['Revenue']\n",
    "y_revenue_by_cust_dna = [49920,2264640,0]\n",
    "y_revenue_by_cust_dnb = revenue_by_cust_dnb['Revenue']\n",
    "y_revenue_by_cust_kl = revenue_by_cust_kl['Revenue']\n",
    "\n",
    "plt.figure(figsize=(15,7))\n",
    "plt.plot(x_year, y_revenue_by_cust_tca, color = 'teal', label='Tổ chức A', linestyle='-.', marker='o')\n",
    "plt.plot(x_year, y_revenue_by_cust_tha, color = 'olive',label='Trường học A', linestyle=':', marker='+')\n",
    "plt.plot(x_year, y_revenue_by_cust_thb, color = 'darkblue',label='Trường học B', linestyle='-', marker='*')\n",
    "plt.plot(x_year, y_revenue_by_cust_dna, color = 'yellowgreen',label='Doanh nghiệp A', linestyle='-.', marker='o')\n",
    "plt.plot(x_year, y_revenue_by_cust_dnb, color = 'skyblue',label='Doanh nghiệp B', linestyle=':', marker='+')\n",
    "plt.plot(x_year, y_revenue_by_cust_kl, color = 'darkgreen',label='Khách lẻ', linestyle='-', marker='*')\n",
    "plt.xlabel('Năm', fontsize=10)\n",
    "plt.ylabel('Doanh thu', fontsize=10)\n",
    "plt.title('Doanh thu của khách hàng trong tháng 12 qua các năm', fontsize = 15)\n",
    "plt.xticks(x_year, fontsize=10)\n",
    "plt.legend()\n",
    "plt.show()"
   ]
  },
  {
   "cell_type": "markdown",
   "id": "8c3b39ed-0b1b-489e-99fc-cb9b50a24fd0",
   "metadata": {},
   "source": [
    "### Nhận xét\n",
    "\n",
    "Xét riêng cơ cấu khách hàng trong tháng 12 qua các năm có thể thấy, doanh thu từ các khách hàng lẻ, doanh nghiệp B, trường học B tiếp tục tăng. Trong khi đó, doanh thu từ trường học A giảm sút trong tháng 12 năm 2016 so với các năm trước, thậm chí doanh nghiệp A và tổ chức A còn không phát sinh giao dịch trong tháng 12 năm 2016. \n",
    "\n",
    "Đây cũng có thể được coi là nguyên nhân thứ 3 khiến doanh thu tháng 12 năm 2016 giảm mạnh ảnh hưởng tới doanh thu quý và doanh thu năm. "
   ]
  },
  {
   "cell_type": "markdown",
   "id": "17d5b92f-3a0d-4a24-9b2e-3409f35ff85f",
   "metadata": {},
   "source": [
    "## Doanh nghiệp A, Trường học A và Tổ chức A đều không phát sinh giao dịch trong tháng 12/2016 "
   ]
  },
  {
   "cell_type": "markdown",
   "id": "07cb8f59-fbeb-41fc-9e83-a264e6ec27e9",
   "metadata": {},
   "source": [
    "### Doanh thu theo loại hàng"
   ]
  },
  {
   "cell_type": "code",
   "execution_count": 79,
   "id": "e82e24cd-cec4-4db3-b528-c95d18d5e22e",
   "metadata": {},
   "outputs": [
    {
     "name": "stdout",
     "output_type": "stream",
     "text": [
      " * sqlite:///sale_2.db\n",
      "Done.\n"
     ]
    },
    {
     "data": {
      "text/html": [
       "<div>\n",
       "<style scoped>\n",
       "    .dataframe tbody tr th:only-of-type {\n",
       "        vertical-align: middle;\n",
       "    }\n",
       "\n",
       "    .dataframe tbody tr th {\n",
       "        vertical-align: top;\n",
       "    }\n",
       "\n",
       "    .dataframe thead th {\n",
       "        text-align: right;\n",
       "    }\n",
       "</style>\n",
       "<table border=\"1\" class=\"dataframe\">\n",
       "  <thead>\n",
       "    <tr style=\"text-align: right;\">\n",
       "      <th></th>\n",
       "      <th>Product_category</th>\n",
       "      <th>Revenue</th>\n",
       "    </tr>\n",
       "  </thead>\n",
       "  <tbody>\n",
       "    <tr>\n",
       "      <th>0</th>\n",
       "      <td>Bánh kẹo</td>\n",
       "      <td>238920</td>\n",
       "    </tr>\n",
       "    <tr>\n",
       "      <th>1</th>\n",
       "      <td>Nước uống đóng chai</td>\n",
       "      <td>1072800</td>\n",
       "    </tr>\n",
       "    <tr>\n",
       "      <th>2</th>\n",
       "      <td>Bánh ngũ cốc ăn sáng</td>\n",
       "      <td>27727270</td>\n",
       "    </tr>\n",
       "    <tr>\n",
       "      <th>3</th>\n",
       "      <td>Cà phê</td>\n",
       "      <td>30637130</td>\n",
       "    </tr>\n",
       "    <tr>\n",
       "      <th>4</th>\n",
       "      <td>Thực phẩm</td>\n",
       "      <td>81022300</td>\n",
       "    </tr>\n",
       "    <tr>\n",
       "      <th>5</th>\n",
       "      <td>Thức uống</td>\n",
       "      <td>101817400</td>\n",
       "    </tr>\n",
       "    <tr>\n",
       "      <th>6</th>\n",
       "      <td>Thức ăn công thức dinh dưỡng</td>\n",
       "      <td>142641620</td>\n",
       "    </tr>\n",
       "    <tr>\n",
       "      <th>7</th>\n",
       "      <td>Sản phẩm dinh dưỡng y học</td>\n",
       "      <td>330491650</td>\n",
       "    </tr>\n",
       "  </tbody>\n",
       "</table>\n",
       "</div>"
      ],
      "text/plain": [
       "               Product_category    Revenue\n",
       "0                      Bánh kẹo     238920\n",
       "1           Nước uống đóng chai    1072800\n",
       "2          Bánh ngũ cốc ăn sáng   27727270\n",
       "3                        Cà phê   30637130\n",
       "4                     Thực phẩm   81022300\n",
       "5                     Thức uống  101817400\n",
       "6  Thức ăn công thức dinh dưỡng  142641620\n",
       "7     Sản phẩm dinh dưỡng y học  330491650"
      ]
     },
     "execution_count": 79,
     "metadata": {},
     "output_type": "execute_result"
    }
   ],
   "source": [
    "revenue_by_cat = %sql select Product_category, sum(Total_amount) as Revenue from saless_tb where year = 2016 group by Product_category order by Revenue\n",
    "\n",
    "#chuyển kết quả query về dạng dataframe\n",
    "revenue_by_cat = pd.DataFrame(revenue_by_cat)\n",
    "#đổi tên cột dataframe vừa tạo\n",
    "revenue_by_cat = revenue_by_cat.rename(columns={0:'Product_category',1:'Revenue'})\n",
    "revenue_by_cat"
   ]
  },
  {
   "cell_type": "code",
   "execution_count": 83,
   "id": "f05c5281-38bc-48f4-a2a8-e3db49d9f0f7",
   "metadata": {},
   "outputs": [
    {
     "data": {
      "image/png": "[encoded data removed]",
      "text/plain": [
       "<Figure size 1080x720 with 1 Axes>"
      ]
     },
     "metadata": {},
     "output_type": "display_data"
    }
   ],
   "source": [
    "colors = ['aqua','blue','cadetblue','skyblue','paleturquoise','teal','olive','yellowgreen']\n",
    "# explosion\n",
    "explode = [0.05,0,0,0,0,0,0,0.1]\n",
    "#figure\n",
    "plt.figure(figsize=(15,10)) \n",
    "# Pie Chart\n",
    "plt.pie(revenue_by_cat['Revenue'], colors=colors, labels=revenue_by_cat['Product_category'],\n",
    "        autopct='%1.1f%%', pctdistance=0.85,\n",
    "        explode=explode, )\n",
    "centre_circle = plt.Circle((0, 0), 0.50, fc='white')\n",
    "fig = plt.gcf()\n",
    "fig.gca().add_artist(centre_circle)\n",
    "plt.title('Doanh thu theo loại hàng năm 2016', fontsize=15)\n",
    "  \n",
    "plt.show()"
   ]
  },
  {
   "cell_type": "markdown",
   "id": "490c65d8-7dfb-4d95-b289-a6bb8be72226",
   "metadata": {},
   "source": [
    "### Nhận xét\n",
    "\n",
    "Dựa trên cơ cấu doanh thu theo các loại hàng năm 2016, Sản phẩm dinh dưỡng y học và Thức ăn công thức dinh dưỡng là những loại hàng mang lại doanh thu nhiều nhất. Trong khi các loại hàng như Bánh kẹo hay Nước uống đóng chai thì doanh thu mang lại không đáng kể"
   ]
  },
  {
   "cell_type": "markdown",
   "id": "be9d22f5-154d-4620-9ecf-2b91834b8cc9",
   "metadata": {},
   "source": [
    "## Sản phẩm dinh dưỡng y học và Thức ăn công thức dinh dưỡng chiếm tỷ trọng doanh thu cao nhất (đơn giá cao)"
   ]
  },
  {
   "cell_type": "code",
   "execution_count": 101,
   "id": "c0d6e974-b7c3-4901-bbd8-d7f721acf213",
   "metadata": {},
   "outputs": [],
   "source": [
    "def pie_chart(labels, sizes):   \n",
    "    fig1, ax1 = plt.subplots(figsize=(10, 7))\n",
    "    fig1.subplots_adjust(0.3, 0, 1, 1)\n",
    "\n",
    "    theme = plt.get_cmap('YlGn')\n",
    "    ax1.set_prop_cycle(\"color\", [theme(1. * i / len(sizes))\n",
    "                                 for i in range(len(sizes))])\n",
    "\n",
    "    _, _ = ax1.pie(sizes, startangle=90, radius=1800)\n",
    "\n",
    "    ax1.axis('equal')\n",
    "\n",
    "    total = sum(sizes)\n",
    "    plt.legend(\n",
    "        loc='upper left',\n",
    "        labels=['%s, %1.1f%%' % (\n",
    "            l, (float(s) / total) * 100)\n",
    "                for l, s in zip(labels, sizes)],\n",
    "        prop={'size': 11},\n",
    "        bbox_to_anchor=(0.0, 1),\n",
    "        bbox_transform=fig1.transFigure\n",
    "    )\n",
    "\n",
    "    plt.show()"
   ]
  },
  {
   "cell_type": "code",
   "execution_count": 97,
   "id": "0d3bd190-6f04-45b2-846d-9927248ab823",
   "metadata": {},
   "outputs": [
    {
     "name": "stdout",
     "output_type": "stream",
     "text": [
      " * sqlite:///sale_2.db\n",
      "Done.\n"
     ]
    },
    {
     "data": {
      "text/html": [
       "<div>\n",
       "<style scoped>\n",
       "    .dataframe tbody tr th:only-of-type {\n",
       "        vertical-align: middle;\n",
       "    }\n",
       "\n",
       "    .dataframe tbody tr th {\n",
       "        vertical-align: top;\n",
       "    }\n",
       "\n",
       "    .dataframe thead th {\n",
       "        text-align: right;\n",
       "    }\n",
       "</style>\n",
       "<table border=\"1\" class=\"dataframe\">\n",
       "  <thead>\n",
       "    <tr style=\"text-align: right;\">\n",
       "      <th></th>\n",
       "      <th>Product_category</th>\n",
       "      <th>Revenue</th>\n",
       "    </tr>\n",
       "  </thead>\n",
       "  <tbody>\n",
       "    <tr>\n",
       "      <th>0</th>\n",
       "      <td>Bánh kẹo</td>\n",
       "      <td>36000</td>\n",
       "    </tr>\n",
       "    <tr>\n",
       "      <th>1</th>\n",
       "      <td>Nước uống đóng chai</td>\n",
       "      <td>160000</td>\n",
       "    </tr>\n",
       "    <tr>\n",
       "      <th>2</th>\n",
       "      <td>Bánh ngũ cốc ăn sáng</td>\n",
       "      <td>1097600</td>\n",
       "    </tr>\n",
       "    <tr>\n",
       "      <th>3</th>\n",
       "      <td>Cà phê</td>\n",
       "      <td>1744000</td>\n",
       "    </tr>\n",
       "    <tr>\n",
       "      <th>4</th>\n",
       "      <td>Thực phẩm</td>\n",
       "      <td>5204000</td>\n",
       "    </tr>\n",
       "    <tr>\n",
       "      <th>5</th>\n",
       "      <td>Thức uống</td>\n",
       "      <td>6067640</td>\n",
       "    </tr>\n",
       "    <tr>\n",
       "      <th>6</th>\n",
       "      <td>Sản phẩm dinh dưỡng y học</td>\n",
       "      <td>20370000</td>\n",
       "    </tr>\n",
       "    <tr>\n",
       "      <th>7</th>\n",
       "      <td>Thức ăn công thức dinh dưỡng</td>\n",
       "      <td>29748000</td>\n",
       "    </tr>\n",
       "  </tbody>\n",
       "</table>\n",
       "</div>"
      ],
      "text/plain": [
       "               Product_category   Revenue\n",
       "0                      Bánh kẹo     36000\n",
       "1           Nước uống đóng chai    160000\n",
       "2          Bánh ngũ cốc ăn sáng   1097600\n",
       "3                        Cà phê   1744000\n",
       "4                     Thực phẩm   5204000\n",
       "5                     Thức uống   6067640\n",
       "6     Sản phẩm dinh dưỡng y học  20370000\n",
       "7  Thức ăn công thức dinh dưỡng  29748000"
      ]
     },
     "execution_count": 97,
     "metadata": {},
     "output_type": "execute_result"
    }
   ],
   "source": [
    "revenue_by_category_14 = %sql select Product_category, sum(Total_amount) as Revenue from saless_tb where year = 2014 and month = 12 group by Product_category order by Revenue\n",
    "\n",
    "#chuyển kết quả query về dạng dataframe\n",
    "revenue_by_category_14 = pd.DataFrame(revenue_by_category_14)\n",
    "#đổi tên cột dataframe vừa tạo\n",
    "revenue_by_category_14 = revenue_by_category_14.rename(columns={0:'Product_category',1:'Revenue'})\n",
    "revenue_by_category_14"
   ]
  },
  {
   "cell_type": "code",
   "execution_count": 102,
   "id": "12007d3d-6abf-4e23-97c0-8b4d31a180c8",
   "metadata": {},
   "outputs": [
    {
     "data": {
      "image/png": "[encoded data removed]",
      "text/plain": [
       "<Figure size 720x504 with 1 Axes>"
      ]
     },
     "metadata": {},
     "output_type": "display_data"
    }
   ],
   "source": [
    "pie_chart(revenue_by_category_14['Product_category'], revenue_by_category_14['Revenue'])"
   ]
  },
  {
   "cell_type": "code",
   "execution_count": 103,
   "id": "b968af60-cb2c-493f-82ce-b36bf6e1ce18",
   "metadata": {},
   "outputs": [
    {
     "name": "stdout",
     "output_type": "stream",
     "text": [
      " * sqlite:///sale_2.db\n",
      "Done.\n"
     ]
    },
    {
     "data": {
      "text/html": [
       "<div>\n",
       "<style scoped>\n",
       "    .dataframe tbody tr th:only-of-type {\n",
       "        vertical-align: middle;\n",
       "    }\n",
       "\n",
       "    .dataframe tbody tr th {\n",
       "        vertical-align: top;\n",
       "    }\n",
       "\n",
       "    .dataframe thead th {\n",
       "        text-align: right;\n",
       "    }\n",
       "</style>\n",
       "<table border=\"1\" class=\"dataframe\">\n",
       "  <thead>\n",
       "    <tr style=\"text-align: right;\">\n",
       "      <th></th>\n",
       "      <th>Product_category</th>\n",
       "      <th>Revenue</th>\n",
       "    </tr>\n",
       "  </thead>\n",
       "  <tbody>\n",
       "    <tr>\n",
       "      <th>0</th>\n",
       "      <td>Bánh kẹo</td>\n",
       "      <td>47520</td>\n",
       "    </tr>\n",
       "    <tr>\n",
       "      <th>1</th>\n",
       "      <td>Nước uống đóng chai</td>\n",
       "      <td>158400</td>\n",
       "    </tr>\n",
       "    <tr>\n",
       "      <th>2</th>\n",
       "      <td>Bánh ngũ cốc ăn sáng</td>\n",
       "      <td>2049000</td>\n",
       "    </tr>\n",
       "    <tr>\n",
       "      <th>3</th>\n",
       "      <td>Cà phê</td>\n",
       "      <td>3231000</td>\n",
       "    </tr>\n",
       "    <tr>\n",
       "      <th>4</th>\n",
       "      <td>Thực phẩm</td>\n",
       "      <td>4152750</td>\n",
       "    </tr>\n",
       "    <tr>\n",
       "      <th>5</th>\n",
       "      <td>Thức uống</td>\n",
       "      <td>5409000</td>\n",
       "    </tr>\n",
       "    <tr>\n",
       "      <th>6</th>\n",
       "      <td>Thức ăn công thức dinh dưỡng</td>\n",
       "      <td>15771000</td>\n",
       "    </tr>\n",
       "    <tr>\n",
       "      <th>7</th>\n",
       "      <td>Sản phẩm dinh dưỡng y học</td>\n",
       "      <td>24378000</td>\n",
       "    </tr>\n",
       "  </tbody>\n",
       "</table>\n",
       "</div>"
      ],
      "text/plain": [
       "               Product_category   Revenue\n",
       "0                      Bánh kẹo     47520\n",
       "1           Nước uống đóng chai    158400\n",
       "2          Bánh ngũ cốc ăn sáng   2049000\n",
       "3                        Cà phê   3231000\n",
       "4                     Thực phẩm   4152750\n",
       "5                     Thức uống   5409000\n",
       "6  Thức ăn công thức dinh dưỡng  15771000\n",
       "7     Sản phẩm dinh dưỡng y học  24378000"
      ]
     },
     "execution_count": 103,
     "metadata": {},
     "output_type": "execute_result"
    }
   ],
   "source": [
    "revenue_by_category_15 = %sql select Product_category, sum(Total_amount) as Revenue from saless_tb where year = 2015 and month = 12 group by Product_category order by Revenue\n",
    "\n",
    "#chuyển kết quả query về dạng dataframe\n",
    "revenue_by_category_15 = pd.DataFrame(revenue_by_category_15)\n",
    "#đổi tên cột dataframe vừa tạo\n",
    "revenue_by_category_15 = revenue_by_category_15.rename(columns={0:'Product_category',1:'Revenue'})\n",
    "revenue_by_category_15"
   ]
  },
  {
   "cell_type": "code",
   "execution_count": 104,
   "id": "fd5f094c-34fe-47c2-925a-0070f01aaa7b",
   "metadata": {},
   "outputs": [
    {
     "data": {
      "image/png": "[encoded data removed]",
      "text/plain": [
       "<Figure size 720x504 with 1 Axes>"
      ]
     },
     "metadata": {},
     "output_type": "display_data"
    }
   ],
   "source": [
    "pie_chart(revenue_by_category_15['Product_category'], revenue_by_category_15['Revenue'])"
   ]
  },
  {
   "cell_type": "code",
   "execution_count": 105,
   "id": "0ea60686-a817-41cb-b2da-1d82e3ed6c97",
   "metadata": {},
   "outputs": [
    {
     "name": "stdout",
     "output_type": "stream",
     "text": [
      " * sqlite:///sale_2.db\n",
      "Done.\n"
     ]
    },
    {
     "data": {
      "text/html": [
       "<div>\n",
       "<style scoped>\n",
       "    .dataframe tbody tr th:only-of-type {\n",
       "        vertical-align: middle;\n",
       "    }\n",
       "\n",
       "    .dataframe tbody tr th {\n",
       "        vertical-align: top;\n",
       "    }\n",
       "\n",
       "    .dataframe thead th {\n",
       "        text-align: right;\n",
       "    }\n",
       "</style>\n",
       "<table border=\"1\" class=\"dataframe\">\n",
       "  <thead>\n",
       "    <tr style=\"text-align: right;\">\n",
       "      <th></th>\n",
       "      <th>Product_category</th>\n",
       "      <th>Revenue</th>\n",
       "    </tr>\n",
       "  </thead>\n",
       "  <tbody>\n",
       "    <tr>\n",
       "      <th>0</th>\n",
       "      <td>Nước uống đóng chai</td>\n",
       "      <td>80000</td>\n",
       "    </tr>\n",
       "    <tr>\n",
       "      <th>1</th>\n",
       "      <td>Bánh ngũ cốc ăn sáng</td>\n",
       "      <td>524000</td>\n",
       "    </tr>\n",
       "    <tr>\n",
       "      <th>2</th>\n",
       "      <td>Cà phê</td>\n",
       "      <td>1241000</td>\n",
       "    </tr>\n",
       "    <tr>\n",
       "      <th>3</th>\n",
       "      <td>Thức uống</td>\n",
       "      <td>1729550</td>\n",
       "    </tr>\n",
       "    <tr>\n",
       "      <th>4</th>\n",
       "      <td>Thực phẩm</td>\n",
       "      <td>2322000</td>\n",
       "    </tr>\n",
       "    <tr>\n",
       "      <th>5</th>\n",
       "      <td>Sản phẩm dinh dưỡng y học</td>\n",
       "      <td>8080000</td>\n",
       "    </tr>\n",
       "  </tbody>\n",
       "</table>\n",
       "</div>"
      ],
      "text/plain": [
       "            Product_category  Revenue\n",
       "0        Nước uống đóng chai    80000\n",
       "1       Bánh ngũ cốc ăn sáng   524000\n",
       "2                     Cà phê  1241000\n",
       "3                  Thức uống  1729550\n",
       "4                  Thực phẩm  2322000\n",
       "5  Sản phẩm dinh dưỡng y học  8080000"
      ]
     },
     "execution_count": 105,
     "metadata": {},
     "output_type": "execute_result"
    }
   ],
   "source": [
    "revenue_by_category_16 = %sql select Product_category, sum(Total_amount) as Revenue from saless_tb where year = 2016 and month = 12 group by Product_category order by Revenue\n",
    "\n",
    "#chuyển kết quả query về dạng dataframe\n",
    "revenue_by_category_16 = pd.DataFrame(revenue_by_category_16)\n",
    "#đổi tên cột dataframe vừa tạo\n",
    "revenue_by_category_16 = revenue_by_category_16.rename(columns={0:'Product_category',1:'Revenue'})\n",
    "revenue_by_category_16"
   ]
  },
  {
   "cell_type": "code",
   "execution_count": 106,
   "id": "a77ab8cd-ac85-442c-b8cd-d43e1f434429",
   "metadata": {},
   "outputs": [
    {
     "data": {
      "image/png": "[encoded data removed]",
      "text/plain": [
       "<Figure size 720x504 with 1 Axes>"
      ]
     },
     "metadata": {},
     "output_type": "display_data"
    }
   ],
   "source": [
    "pie_chart(revenue_by_category_16['Product_category'], revenue_by_category_16['Revenue'])"
   ]
  },
  {
   "cell_type": "markdown",
   "id": "9d929ef7-05f9-4f80-a958-1801708f66dc",
   "metadata": {},
   "source": [
    "### Nhận xét\n",
    "\n",
    "Theo cơ cấu doanh thu theo loại hàng tháng 12 qua các năm, có thể thấy tại cả năm trước, Thức ăn công thức dinh dưỡng là một trong những loại hàng mang lại doanh thu lớn nhất. Cụ thể, năm 2014 doanh thu Thức ăn công thức dinh dưỡng chiếm tỷ trọng cao nhất là 46.2%, năm 2015 ít hơn là 28.6% do có sự vượt qua của Sản phẩm dinh dưỡng. \n",
    "\n",
    "Tuy nhiên, tới năm 2016 các sản phẩm thuộc loại hàng này không được bán nữa. Đây cũng sẽ được cho là nguyên nhân thứ 4 dẫn tới làm giảm sút doanh thu tháng 12 nói riêng "
   ]
  },
  {
   "cell_type": "markdown",
   "id": "7e651d3d-9cd7-47b2-915f-c54865558ffc",
   "metadata": {},
   "source": [
    "## T12/2016 các sản phẩm Thức ăn công thức dinh dưỡng không được bán"
   ]
  }
 ],
 "metadata": {
  "kernelspec": {
   "display_name": "Python 3",
   "language": "python",
   "name": "python3"
  },
  "language_info": {
   "codemirror_mode": {
    "name": "ipython",
    "version": 3
   },
   "file_extension": ".py",
   "mimetype": "text/x-python",
   "name": "python",
   "nbconvert_exporter": "python",
   "pygments_lexer": "ipython3",
   "version": "3.8.8"
  }
 },
 "nbformat": 4,
 "nbformat_minor": 5
}
